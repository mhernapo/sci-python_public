{
 "cells": [
  {
   "cell_type": "markdown",
   "id": "c9916794",
   "metadata": {},
   "source": [
    "## Predicción del precio de los inmuebles en Saratoga, NY\n",
    "--------\n"
   ]
  },
  {
   "cell_type": "code",
   "execution_count": 55,
   "id": "1df01e01",
   "metadata": {},
   "outputs": [],
   "source": [
    "import time\n",
    "import pandas as pd\n",
    "import numpy as np\n",
    "from sklearn import datasets, linear_model\n",
    "import statsmodels.formula.api as smf # para crear un modelo lineal\n",
    "\n",
    "import matplotlib.pyplot as plt\n",
    "import seaborn as sns"
   ]
  },
  {
   "cell_type": "code",
   "execution_count": 2,
   "id": "8ea7aa2b",
   "metadata": {},
   "outputs": [
    {
     "data": {
      "text/html": [
       "<div>\n",
       "<style scoped>\n",
       "    .dataframe tbody tr th:only-of-type {\n",
       "        vertical-align: middle;\n",
       "    }\n",
       "\n",
       "    .dataframe tbody tr th {\n",
       "        vertical-align: top;\n",
       "    }\n",
       "\n",
       "    .dataframe thead th {\n",
       "        text-align: right;\n",
       "    }\n",
       "</style>\n",
       "<table border=\"1\" class=\"dataframe\">\n",
       "  <thead>\n",
       "    <tr style=\"text-align: right;\">\n",
       "      <th></th>\n",
       "      <th>precio</th>\n",
       "      <th>metros_totales</th>\n",
       "      <th>antiguedad</th>\n",
       "      <th>precio_terreno</th>\n",
       "      <th>metros_habitables</th>\n",
       "      <th>universitarios</th>\n",
       "      <th>dormitorios</th>\n",
       "      <th>chimenea</th>\n",
       "      <th>banyos</th>\n",
       "      <th>habitaciones</th>\n",
       "      <th>calefaccion</th>\n",
       "      <th>consumo_calefacion</th>\n",
       "      <th>desague</th>\n",
       "      <th>vistas_lago</th>\n",
       "      <th>nueva_construccion</th>\n",
       "      <th>aire_acondicionado</th>\n",
       "    </tr>\n",
       "  </thead>\n",
       "  <tbody>\n",
       "    <tr>\n",
       "      <th>0</th>\n",
       "      <td>132500</td>\n",
       "      <td>0.09</td>\n",
       "      <td>42</td>\n",
       "      <td>50000</td>\n",
       "      <td>906</td>\n",
       "      <td>35</td>\n",
       "      <td>2</td>\n",
       "      <td>1</td>\n",
       "      <td>1.0</td>\n",
       "      <td>5</td>\n",
       "      <td>electric</td>\n",
       "      <td>electric</td>\n",
       "      <td>septic</td>\n",
       "      <td>No</td>\n",
       "      <td>No</td>\n",
       "      <td>No</td>\n",
       "    </tr>\n",
       "    <tr>\n",
       "      <th>1</th>\n",
       "      <td>181115</td>\n",
       "      <td>0.92</td>\n",
       "      <td>0</td>\n",
       "      <td>22300</td>\n",
       "      <td>1953</td>\n",
       "      <td>51</td>\n",
       "      <td>3</td>\n",
       "      <td>0</td>\n",
       "      <td>2.5</td>\n",
       "      <td>6</td>\n",
       "      <td>hot water/steam</td>\n",
       "      <td>gas</td>\n",
       "      <td>septic</td>\n",
       "      <td>No</td>\n",
       "      <td>No</td>\n",
       "      <td>No</td>\n",
       "    </tr>\n",
       "    <tr>\n",
       "      <th>2</th>\n",
       "      <td>109000</td>\n",
       "      <td>0.19</td>\n",
       "      <td>133</td>\n",
       "      <td>7300</td>\n",
       "      <td>1944</td>\n",
       "      <td>51</td>\n",
       "      <td>4</td>\n",
       "      <td>1</td>\n",
       "      <td>1.0</td>\n",
       "      <td>8</td>\n",
       "      <td>hot water/steam</td>\n",
       "      <td>gas</td>\n",
       "      <td>public/commercial</td>\n",
       "      <td>No</td>\n",
       "      <td>No</td>\n",
       "      <td>No</td>\n",
       "    </tr>\n",
       "    <tr>\n",
       "      <th>3</th>\n",
       "      <td>155000</td>\n",
       "      <td>0.41</td>\n",
       "      <td>13</td>\n",
       "      <td>18700</td>\n",
       "      <td>1944</td>\n",
       "      <td>51</td>\n",
       "      <td>3</td>\n",
       "      <td>1</td>\n",
       "      <td>1.5</td>\n",
       "      <td>5</td>\n",
       "      <td>hot air</td>\n",
       "      <td>gas</td>\n",
       "      <td>septic</td>\n",
       "      <td>No</td>\n",
       "      <td>No</td>\n",
       "      <td>No</td>\n",
       "    </tr>\n",
       "  </tbody>\n",
       "</table>\n",
       "</div>"
      ],
      "text/plain": [
       "   precio  metros_totales  antiguedad  precio_terreno  metros_habitables  \\\n",
       "0  132500            0.09          42           50000                906   \n",
       "1  181115            0.92           0           22300               1953   \n",
       "2  109000            0.19         133            7300               1944   \n",
       "3  155000            0.41          13           18700               1944   \n",
       "\n",
       "   universitarios  dormitorios  chimenea  banyos  habitaciones  \\\n",
       "0              35            2         1     1.0             5   \n",
       "1              51            3         0     2.5             6   \n",
       "2              51            4         1     1.0             8   \n",
       "3              51            3         1     1.5             5   \n",
       "\n",
       "       calefaccion consumo_calefacion            desague vistas_lago  \\\n",
       "0         electric           electric             septic          No   \n",
       "1  hot water/steam                gas             septic          No   \n",
       "2  hot water/steam                gas  public/commercial          No   \n",
       "3          hot air                gas             septic          No   \n",
       "\n",
       "  nueva_construccion aire_acondicionado  \n",
       "0                 No                 No  \n",
       "1                 No                 No  \n",
       "2                 No                 No  \n",
       "3                 No                 No  "
      ]
     },
     "execution_count": 2,
     "metadata": {},
     "output_type": "execute_result"
    }
   ],
   "source": [
    "url = r\"C:\\Users\\mhern\\Desktop\\Marcos\\Udemy - Formaciones\\Curso Datascience\\Mis_datasets_de_ejemplo/SaratogaHouses.csv\"\n",
    "datos = pd.read_csv(url, sep=\",\")\n",
    "\n",
    "# Se renombran las columnas para que sean más descriptivas\n",
    "datos.columns = [\"precio\", \"metros_totales\", \"antiguedad\", \"precio_terreno\",\n",
    "                 \"metros_habitables\", \"universitarios\", \"dormitorios\", \n",
    "                 \"chimenea\", \"banyos\", \"habitaciones\", \"calefaccion\",\n",
    "                 \"consumo_calefacion\", \"desague\", \"vistas_lago\",\n",
    "                 \"nueva_construccion\", \"aire_acondicionado\"]\n",
    "datos.head(4)"
   ]
  },
  {
   "cell_type": "markdown",
   "id": "a2944958",
   "metadata": {},
   "source": [
    "## División del dataset en Training y Testing"
   ]
  },
  {
   "cell_type": "code",
   "execution_count": 3,
   "id": "cdf0c655",
   "metadata": {},
   "outputs": [
    {
     "data": {
      "text/plain": [
       "(array([  8.,  31., 126., 278., 476., 423., 254., 100.,  29.,   3.]),\n",
       " array([-3.47664883, -2.7664779 , -2.05630697, -1.34613605, -0.63596512,\n",
       "         0.07420581,  0.78437674,  1.49454766,  2.20471859,  2.91488952,\n",
       "         3.62506044]),\n",
       " <BarContainer object of 10 artists>)"
      ]
     },
     "execution_count": 3,
     "metadata": {},
     "output_type": "execute_result"
    },
    {
     "data": {
      "image/png": "[encoded data removed]",
      "text/plain": [
       "<Figure size 432x288 with 1 Axes>"
      ]
     },
     "metadata": {
      "needs_background": "light"
     },
     "output_type": "display_data"
    }
   ],
   "source": [
    "# construyo dist normal del tamaño del dataset\n",
    "a = np.random.randn(len(datos))\n",
    "plt.hist(a)"
   ]
  },
  {
   "cell_type": "code",
   "execution_count": 4,
   "id": "d4e3cb0c",
   "metadata": {},
   "outputs": [
    {
     "data": {
      "text/plain": [
       "(1350, 378)"
      ]
     },
     "execution_count": 4,
     "metadata": {},
     "output_type": "execute_result"
    }
   ],
   "source": [
    "check = (a<0.8)\n",
    "datos_training = datos[check]\n",
    "datos_testing = datos[~check]\n",
    "\n",
    "len(datos_training), len(datos_testing)"
   ]
  },
  {
   "cell_type": "markdown",
   "id": "b52c9e6c",
   "metadata": {},
   "source": [
    "## Análisis exploratorio de los datos\n",
    "\n",
    "### Tipo de cada columna"
   ]
  },
  {
   "cell_type": "code",
   "execution_count": 5,
   "id": "f88cd603",
   "metadata": {},
   "outputs": [
    {
     "name": "stdout",
     "output_type": "stream",
     "text": [
      "<class 'pandas.core.frame.DataFrame'>\n",
      "RangeIndex: 1728 entries, 0 to 1727\n",
      "Data columns (total 16 columns):\n",
      " #   Column              Non-Null Count  Dtype  \n",
      "---  ------              --------------  -----  \n",
      " 0   precio              1728 non-null   int64  \n",
      " 1   metros_totales      1728 non-null   float64\n",
      " 2   antiguedad          1728 non-null   int64  \n",
      " 3   precio_terreno      1728 non-null   int64  \n",
      " 4   metros_habitables   1728 non-null   int64  \n",
      " 5   universitarios      1728 non-null   int64  \n",
      " 6   dormitorios         1728 non-null   int64  \n",
      " 7   chimenea            1728 non-null   int64  \n",
      " 8   banyos              1728 non-null   float64\n",
      " 9   habitaciones        1728 non-null   int64  \n",
      " 10  calefaccion         1728 non-null   object \n",
      " 11  consumo_calefacion  1728 non-null   object \n",
      " 12  desague             1728 non-null   object \n",
      " 13  vistas_lago         1728 non-null   object \n",
      " 14  nueva_construccion  1728 non-null   object \n",
      " 15  aire_acondicionado  1728 non-null   object \n",
      "dtypes: float64(2), int64(8), object(6)\n",
      "memory usage: 216.1+ KB\n"
     ]
    }
   ],
   "source": [
    "# En pandas, el tipo \"object\" hace referencia a strings\n",
    "# datos.dtypes\n",
    "datos.info()"
   ]
  },
  {
   "cell_type": "markdown",
   "id": "db4c3e76",
   "metadata": {},
   "source": [
    "Los valores ausentes son muy importantes a la hora de crear modelos, la mayoría de algoritmos no aceptan observaciones incompletas o bien se ven muy influenciados por ellas.\n",
    "\n",
    "**NOTA:** Es importante no tener nulos en los datos. Habria que rellenar en ese caso."
   ]
  },
  {
   "cell_type": "markdown",
   "id": "b6f09115",
   "metadata": {},
   "source": [
    "### Variable respuesta\n",
    "Es muy importante estudiar la distribución de la variable respuesta, ya que, a fin de cuentas, es lo que interesa predecir.<br></br>\n",
    "La variable precio tiene una distribución asimétrica con una cola positiva debido a que, unas pocas viviendas, tienen un precio muy superior a la media. Este tipo de distribución suele visualizarse mejor tras aplicar el logarítmica o la raíz cuadrada."
   ]
  },
  {
   "cell_type": "code",
   "execution_count": 6,
   "id": "280772f9",
   "metadata": {},
   "outputs": [
    {
     "data": {
      "image/png": "[encoded data removed]",
      "text/plain": [
       "<Figure size 432x288 with 1 Axes>"
      ]
     },
     "metadata": {
      "needs_background": "light"
     },
     "output_type": "display_data"
    }
   ],
   "source": [
    "dummy=plt.hist(datos.precio, bins=50)"
   ]
  },
  {
   "cell_type": "code",
   "execution_count": 7,
   "id": "2fe8361b",
   "metadata": {},
   "outputs": [
    {
     "data": {
      "image/png": "[encoded data removed]",
      "text/plain": [
       "<Figure size 1296x360 with 3 Axes>"
      ]
     },
     "metadata": {
      "needs_background": "light"
     },
     "output_type": "display_data"
    }
   ],
   "source": [
    "fig, axes = plt.subplots(nrows=1, ncols=3, figsize=(18, 5))\n",
    "\n",
    "sns.kdeplot(data=datos, x=\"precio\", ax=axes[0] )\n",
    "axes[0].set_title(\"Distribución original\", fontsize = 'medium', fontweight = \"bold\")\n",
    "axes[0].set_xlabel('precio', fontsize='medium') \n",
    "axes[0].tick_params(labelsize = 10)\n",
    "\n",
    "sns.kdeplot(data=datos, x=np.sqrt(datos.precio), ax=axes[1] )\n",
    "axes[1].set_title(\"Transformación a raiz cuadrada\", fontsize = 'medium')\n",
    "axes[1].set_xlabel('sqrt(precio)', fontsize='medium') \n",
    "axes[1].tick_params(labelsize = 10)\n",
    "\n",
    "sns.kdeplot(data=np.log(datos.precio), ax=axes[2] )\n",
    "axes[2].set_title(\"Transformacion logarítmica\", fontsize = 'medium')\n",
    "axes[2].set_xlabel('log(precio)', fontsize='medium') \n",
    "axes[2].tick_params(labelsize = 10)\n",
    "\n",
    "fig.tight_layout()"
   ]
  },
  {
   "cell_type": "markdown",
   "id": "550ec437",
   "metadata": {},
   "source": [
    "Algunos modelos de machine learning y aprendizaje estadístico requieren que la variable respuesta se distribuya de una forma determinada. Por ejemplo, para los modelos de regresión lineal (LM), la distribución tiene que ser de tipo normal. Para los modelos lineales generalizados (GLM), la distribución tiene que ser de la familia exponencial."
   ]
  },
  {
   "cell_type": "markdown",
   "id": "81788942",
   "metadata": {},
   "source": [
    "Existen varias librerías en python que permiten identificar a qué distribución se ajustan mejor los datos, una de ellas es <code>fitter</code>. Esta librería permite ajustar cualquiera de las 80 distribuciones implementadas en scipy."
   ]
  },
  {
   "cell_type": "code",
   "execution_count": 8,
   "id": "696640c3",
   "metadata": {},
   "outputs": [
    {
     "data": {
      "text/html": [
       "<div>\n",
       "<style scoped>\n",
       "    .dataframe tbody tr th:only-of-type {\n",
       "        vertical-align: middle;\n",
       "    }\n",
       "\n",
       "    .dataframe tbody tr th {\n",
       "        vertical-align: top;\n",
       "    }\n",
       "\n",
       "    .dataframe thead th {\n",
       "        text-align: right;\n",
       "    }\n",
       "</style>\n",
       "<table border=\"1\" class=\"dataframe\">\n",
       "  <thead>\n",
       "    <tr style=\"text-align: right;\">\n",
       "      <th></th>\n",
       "      <th>sumsquare_error</th>\n",
       "      <th>aic</th>\n",
       "      <th>bic</th>\n",
       "      <th>kl_div</th>\n",
       "    </tr>\n",
       "  </thead>\n",
       "  <tbody>\n",
       "    <tr>\n",
       "      <th>beta</th>\n",
       "      <td>2.497420e-11</td>\n",
       "      <td>3068.852573</td>\n",
       "      <td>-55037.908642</td>\n",
       "      <td>inf</td>\n",
       "    </tr>\n",
       "    <tr>\n",
       "      <th>logistic</th>\n",
       "      <td>4.913880e-11</td>\n",
       "      <td>3147.967042</td>\n",
       "      <td>-53883.297844</td>\n",
       "      <td>inf</td>\n",
       "    </tr>\n",
       "    <tr>\n",
       "      <th>cauchy</th>\n",
       "      <td>5.221450e-11</td>\n",
       "      <td>2956.669693</td>\n",
       "      <td>-53778.388707</td>\n",
       "      <td>inf</td>\n",
       "    </tr>\n",
       "    <tr>\n",
       "      <th>chi2</th>\n",
       "      <td>5.776892e-11</td>\n",
       "      <td>3321.818880</td>\n",
       "      <td>-53596.249282</td>\n",
       "      <td>inf</td>\n",
       "    </tr>\n",
       "    <tr>\n",
       "      <th>norm</th>\n",
       "      <td>6.947514e-11</td>\n",
       "      <td>3324.534158</td>\n",
       "      <td>-53284.856663</td>\n",
       "      <td>inf</td>\n",
       "    </tr>\n",
       "  </tbody>\n",
       "</table>\n",
       "</div>"
      ],
      "text/plain": [
       "          sumsquare_error          aic           bic  kl_div\n",
       "beta         2.497420e-11  3068.852573 -55037.908642     inf\n",
       "logistic     4.913880e-11  3147.967042 -53883.297844     inf\n",
       "cauchy       5.221450e-11  2956.669693 -53778.388707     inf\n",
       "chi2         5.776892e-11  3321.818880 -53596.249282     inf\n",
       "norm         6.947514e-11  3324.534158 -53284.856663     inf"
      ]
     },
     "execution_count": 8,
     "metadata": {},
     "output_type": "execute_result"
    }
   ],
   "source": [
    "from fitter import Fitter\n",
    "\n",
    "distros = ['cauchy', 'chi2', 'expon',  'exponpow', 'gamma',\n",
    "                  'norm', 'powerlaw', 'beta', 'logistic']\n",
    "\n",
    "ft = Fitter(datos.precio, distributions=distros)\n",
    "ft.fit()\n",
    "ft.summary(Nbest=5, plot=False)"
   ]
  },
  {
   "cell_type": "code",
   "execution_count": 9,
   "id": "de237141",
   "metadata": {},
   "outputs": [
    {
     "data": {
      "text/plain": [
       "{'beta': {'a': 5.269813405374375,\n",
       "  'b': 3032086461568.871,\n",
       "  'loc': -3078.7497036941077,\n",
       "  'scale': 1.2411771591985462e+17}}"
      ]
     },
     "execution_count": 9,
     "metadata": {},
     "output_type": "execute_result"
    }
   ],
   "source": [
    "ft.get_best(method = 'sumsquare_error')"
   ]
  },
  {
   "cell_type": "markdown",
   "id": "1287177e",
   "metadata": {},
   "source": [
    "### Variables numéricas"
   ]
  },
  {
   "cell_type": "code",
   "execution_count": 10,
   "id": "83c60421",
   "metadata": {},
   "outputs": [
    {
     "data": {
      "text/html": [
       "<div>\n",
       "<style scoped>\n",
       "    .dataframe tbody tr th:only-of-type {\n",
       "        vertical-align: middle;\n",
       "    }\n",
       "\n",
       "    .dataframe tbody tr th {\n",
       "        vertical-align: top;\n",
       "    }\n",
       "\n",
       "    .dataframe thead th {\n",
       "        text-align: right;\n",
       "    }\n",
       "</style>\n",
       "<table border=\"1\" class=\"dataframe\">\n",
       "  <thead>\n",
       "    <tr style=\"text-align: right;\">\n",
       "      <th></th>\n",
       "      <th>precio</th>\n",
       "      <th>metros_totales</th>\n",
       "      <th>antiguedad</th>\n",
       "      <th>precio_terreno</th>\n",
       "      <th>metros_habitables</th>\n",
       "      <th>universitarios</th>\n",
       "      <th>dormitorios</th>\n",
       "      <th>chimenea</th>\n",
       "      <th>banyos</th>\n",
       "      <th>habitaciones</th>\n",
       "    </tr>\n",
       "  </thead>\n",
       "  <tbody>\n",
       "    <tr>\n",
       "      <th>count</th>\n",
       "      <td>1728.000000</td>\n",
       "      <td>1728.000000</td>\n",
       "      <td>1728.000000</td>\n",
       "      <td>1728.000000</td>\n",
       "      <td>1728.000000</td>\n",
       "      <td>1728.000000</td>\n",
       "      <td>1728.000000</td>\n",
       "      <td>1728.000000</td>\n",
       "      <td>1728.000000</td>\n",
       "      <td>1728.000000</td>\n",
       "    </tr>\n",
       "    <tr>\n",
       "      <th>mean</th>\n",
       "      <td>211966.705440</td>\n",
       "      <td>0.500214</td>\n",
       "      <td>27.916088</td>\n",
       "      <td>34557.187500</td>\n",
       "      <td>1754.975694</td>\n",
       "      <td>55.567708</td>\n",
       "      <td>3.154514</td>\n",
       "      <td>0.601852</td>\n",
       "      <td>1.900174</td>\n",
       "      <td>7.041667</td>\n",
       "    </tr>\n",
       "    <tr>\n",
       "      <th>std</th>\n",
       "      <td>98441.391015</td>\n",
       "      <td>0.698680</td>\n",
       "      <td>29.209988</td>\n",
       "      <td>35021.168056</td>\n",
       "      <td>619.935553</td>\n",
       "      <td>10.333581</td>\n",
       "      <td>0.817351</td>\n",
       "      <td>0.556102</td>\n",
       "      <td>0.658352</td>\n",
       "      <td>2.316453</td>\n",
       "    </tr>\n",
       "    <tr>\n",
       "      <th>min</th>\n",
       "      <td>5000.000000</td>\n",
       "      <td>0.000000</td>\n",
       "      <td>0.000000</td>\n",
       "      <td>200.000000</td>\n",
       "      <td>616.000000</td>\n",
       "      <td>20.000000</td>\n",
       "      <td>1.000000</td>\n",
       "      <td>0.000000</td>\n",
       "      <td>0.000000</td>\n",
       "      <td>2.000000</td>\n",
       "    </tr>\n",
       "    <tr>\n",
       "      <th>25%</th>\n",
       "      <td>145000.000000</td>\n",
       "      <td>0.170000</td>\n",
       "      <td>13.000000</td>\n",
       "      <td>15100.000000</td>\n",
       "      <td>1300.000000</td>\n",
       "      <td>52.000000</td>\n",
       "      <td>3.000000</td>\n",
       "      <td>0.000000</td>\n",
       "      <td>1.500000</td>\n",
       "      <td>5.000000</td>\n",
       "    </tr>\n",
       "    <tr>\n",
       "      <th>50%</th>\n",
       "      <td>189900.000000</td>\n",
       "      <td>0.370000</td>\n",
       "      <td>19.000000</td>\n",
       "      <td>25000.000000</td>\n",
       "      <td>1634.500000</td>\n",
       "      <td>57.000000</td>\n",
       "      <td>3.000000</td>\n",
       "      <td>1.000000</td>\n",
       "      <td>2.000000</td>\n",
       "      <td>7.000000</td>\n",
       "    </tr>\n",
       "    <tr>\n",
       "      <th>75%</th>\n",
       "      <td>259000.000000</td>\n",
       "      <td>0.540000</td>\n",
       "      <td>34.000000</td>\n",
       "      <td>40200.000000</td>\n",
       "      <td>2137.750000</td>\n",
       "      <td>64.000000</td>\n",
       "      <td>4.000000</td>\n",
       "      <td>1.000000</td>\n",
       "      <td>2.500000</td>\n",
       "      <td>8.250000</td>\n",
       "    </tr>\n",
       "    <tr>\n",
       "      <th>max</th>\n",
       "      <td>775000.000000</td>\n",
       "      <td>12.200000</td>\n",
       "      <td>225.000000</td>\n",
       "      <td>412600.000000</td>\n",
       "      <td>5228.000000</td>\n",
       "      <td>82.000000</td>\n",
       "      <td>7.000000</td>\n",
       "      <td>4.000000</td>\n",
       "      <td>4.500000</td>\n",
       "      <td>12.000000</td>\n",
       "    </tr>\n",
       "  </tbody>\n",
       "</table>\n",
       "</div>"
      ],
      "text/plain": [
       "              precio  metros_totales   antiguedad  precio_terreno  \\\n",
       "count    1728.000000     1728.000000  1728.000000     1728.000000   \n",
       "mean   211966.705440        0.500214    27.916088    34557.187500   \n",
       "std     98441.391015        0.698680    29.209988    35021.168056   \n",
       "min      5000.000000        0.000000     0.000000      200.000000   \n",
       "25%    145000.000000        0.170000    13.000000    15100.000000   \n",
       "50%    189900.000000        0.370000    19.000000    25000.000000   \n",
       "75%    259000.000000        0.540000    34.000000    40200.000000   \n",
       "max    775000.000000       12.200000   225.000000   412600.000000   \n",
       "\n",
       "       metros_habitables  universitarios  dormitorios     chimenea  \\\n",
       "count        1728.000000     1728.000000  1728.000000  1728.000000   \n",
       "mean         1754.975694       55.567708     3.154514     0.601852   \n",
       "std           619.935553       10.333581     0.817351     0.556102   \n",
       "min           616.000000       20.000000     1.000000     0.000000   \n",
       "25%          1300.000000       52.000000     3.000000     0.000000   \n",
       "50%          1634.500000       57.000000     3.000000     1.000000   \n",
       "75%          2137.750000       64.000000     4.000000     1.000000   \n",
       "max          5228.000000       82.000000     7.000000     4.000000   \n",
       "\n",
       "            banyos  habitaciones  \n",
       "count  1728.000000   1728.000000  \n",
       "mean      1.900174      7.041667  \n",
       "std       0.658352      2.316453  \n",
       "min       0.000000      2.000000  \n",
       "25%       1.500000      5.000000  \n",
       "50%       2.000000      7.000000  \n",
       "75%       2.500000      8.250000  \n",
       "max       4.500000     12.000000  "
      ]
     },
     "execution_count": 10,
     "metadata": {},
     "output_type": "execute_result"
    }
   ],
   "source": [
    "# columnas con variables numéricas\n",
    "datos.select_dtypes(include=['float64','int','int64']).describe()"
   ]
  },
  {
   "cell_type": "code",
   "execution_count": 11,
   "id": "2861b7f7",
   "metadata": {},
   "outputs": [
    {
     "data": {
      "image/png": "[encoded data removed]",
      "text/plain": [
       "<Figure size 1080x792 with 9 Axes>"
      ]
     },
     "metadata": {
      "needs_background": "light"
     },
     "output_type": "display_data"
    }
   ],
   "source": [
    "# Grafico de distribución para cada variable numérica\n",
    "fig, axes = plt.subplots(nrows=3, ncols=3, figsize=(15,11))\n",
    "\n",
    "#ax is a two-dimensional array: one dimension for the rows, one for the columns.\n",
    "#if you want to iterate through the subplots in the way you do it now, by flattening ax first: ax = ax.flatten()\n",
    "#and now ax is a one dimensional array. \n",
    "axes = axes.flat\n",
    "\n",
    "columnas_numeric = datos.select_dtypes(include=['float64', 'int64', 'int']).columns\n",
    "columnas_numeric = columnas_numeric.drop('precio')\n",
    "\n",
    "for i, colum  in enumerate(columnas_numeric):\n",
    "    sns.histplot(data=datos, x=colum , stat='count', kde=True, ax= axes[i] )\n",
    "    #axes[i].set_title(col, fontsize = 'medium', fontweight = \"bold\")\n",
    "    axes[i].tick_params(labelsize = 10)\n",
    "\n",
    "fig.tight_layout()\n"
   ]
  },
  {
   "cell_type": "code",
   "execution_count": 12,
   "id": "606055de",
   "metadata": {},
   "outputs": [
    {
     "data": {
      "text/plain": [
       "1    942\n",
       "0    740\n",
       "2     42\n",
       "3      2\n",
       "4      2\n",
       "Name: chimenea, dtype: int64"
      ]
     },
     "execution_count": 12,
     "metadata": {},
     "output_type": "execute_result"
    }
   ],
   "source": [
    "# Valores observados de chimenea\n",
    "datos.chimenea.value_counts()"
   ]
  },
  {
   "cell_type": "markdown",
   "id": "109f9340",
   "metadata": {},
   "source": [
    "### Correlación de variables numéricas\n",
    "\n",
    "Algunos modelos (LM, GLM, ...) se ven perjudicados si incorporan predictores altamente correlacionados. Por esta razón, es conveniente estudiar el grado de correlación entre las variables disponibles.\n",
    "\n",
    "Cuando existe una correlacion significativa entre las variables predictoras (no hace falta que sea alta), puede causarnos problemas en el modelo.\n",
    "\n",
    "Precio es la variable de salida, no es predictora y que tenga correlacion es bueno."
   ]
  },
  {
   "cell_type": "code",
   "execution_count": 13,
   "id": "0df38389",
   "metadata": {},
   "outputs": [
    {
     "data": {
      "text/html": [
       "<div>\n",
       "<style scoped>\n",
       "    .dataframe tbody tr th:only-of-type {\n",
       "        vertical-align: middle;\n",
       "    }\n",
       "\n",
       "    .dataframe tbody tr th {\n",
       "        vertical-align: top;\n",
       "    }\n",
       "\n",
       "    .dataframe thead th {\n",
       "        text-align: right;\n",
       "    }\n",
       "</style>\n",
       "<table border=\"1\" class=\"dataframe\">\n",
       "  <thead>\n",
       "    <tr style=\"text-align: right;\">\n",
       "      <th></th>\n",
       "      <th>precio</th>\n",
       "      <th>metros_totales</th>\n",
       "      <th>antiguedad</th>\n",
       "      <th>precio_terreno</th>\n",
       "      <th>metros_habitables</th>\n",
       "      <th>universitarios</th>\n",
       "      <th>dormitorios</th>\n",
       "      <th>chimenea</th>\n",
       "      <th>banyos</th>\n",
       "      <th>habitaciones</th>\n",
       "    </tr>\n",
       "  </thead>\n",
       "  <tbody>\n",
       "    <tr>\n",
       "      <th>precio</th>\n",
       "      <td>1.000000</td>\n",
       "      <td>0.158333</td>\n",
       "      <td>-0.188793</td>\n",
       "      <td>0.581266</td>\n",
       "      <td>0.712390</td>\n",
       "      <td>0.200119</td>\n",
       "      <td>0.400349</td>\n",
       "      <td>0.376786</td>\n",
       "      <td>0.597250</td>\n",
       "      <td>0.531170</td>\n",
       "    </tr>\n",
       "    <tr>\n",
       "      <th>metros_totales</th>\n",
       "      <td>0.158333</td>\n",
       "      <td>1.000000</td>\n",
       "      <td>-0.016352</td>\n",
       "      <td>0.059222</td>\n",
       "      <td>0.163450</td>\n",
       "      <td>-0.033148</td>\n",
       "      <td>0.113982</td>\n",
       "      <td>0.085226</td>\n",
       "      <td>0.084823</td>\n",
       "      <td>0.137604</td>\n",
       "    </tr>\n",
       "    <tr>\n",
       "      <th>antiguedad</th>\n",
       "      <td>-0.188793</td>\n",
       "      <td>-0.016352</td>\n",
       "      <td>1.000000</td>\n",
       "      <td>-0.021818</td>\n",
       "      <td>-0.174242</td>\n",
       "      <td>-0.037785</td>\n",
       "      <td>0.027125</td>\n",
       "      <td>-0.172022</td>\n",
       "      <td>-0.361897</td>\n",
       "      <td>-0.082264</td>\n",
       "    </tr>\n",
       "    <tr>\n",
       "      <th>precio_terreno</th>\n",
       "      <td>0.581266</td>\n",
       "      <td>0.059222</td>\n",
       "      <td>-0.021818</td>\n",
       "      <td>1.000000</td>\n",
       "      <td>0.423441</td>\n",
       "      <td>0.228427</td>\n",
       "      <td>0.202449</td>\n",
       "      <td>0.211727</td>\n",
       "      <td>0.297498</td>\n",
       "      <td>0.298865</td>\n",
       "    </tr>\n",
       "    <tr>\n",
       "      <th>metros_habitables</th>\n",
       "      <td>0.712390</td>\n",
       "      <td>0.163450</td>\n",
       "      <td>-0.174242</td>\n",
       "      <td>0.423441</td>\n",
       "      <td>1.000000</td>\n",
       "      <td>0.209981</td>\n",
       "      <td>0.656196</td>\n",
       "      <td>0.473788</td>\n",
       "      <td>0.718564</td>\n",
       "      <td>0.733666</td>\n",
       "    </tr>\n",
       "    <tr>\n",
       "      <th>universitarios</th>\n",
       "      <td>0.200119</td>\n",
       "      <td>-0.033148</td>\n",
       "      <td>-0.037785</td>\n",
       "      <td>0.228427</td>\n",
       "      <td>0.209981</td>\n",
       "      <td>1.000000</td>\n",
       "      <td>0.162919</td>\n",
       "      <td>0.246626</td>\n",
       "      <td>0.179541</td>\n",
       "      <td>0.157068</td>\n",
       "    </tr>\n",
       "    <tr>\n",
       "      <th>dormitorios</th>\n",
       "      <td>0.400349</td>\n",
       "      <td>0.113982</td>\n",
       "      <td>0.027125</td>\n",
       "      <td>0.202449</td>\n",
       "      <td>0.656196</td>\n",
       "      <td>0.162919</td>\n",
       "      <td>1.000000</td>\n",
       "      <td>0.284475</td>\n",
       "      <td>0.458033</td>\n",
       "      <td>0.671863</td>\n",
       "    </tr>\n",
       "    <tr>\n",
       "      <th>chimenea</th>\n",
       "      <td>0.376786</td>\n",
       "      <td>0.085226</td>\n",
       "      <td>-0.172022</td>\n",
       "      <td>0.211727</td>\n",
       "      <td>0.473788</td>\n",
       "      <td>0.246626</td>\n",
       "      <td>0.284475</td>\n",
       "      <td>1.000000</td>\n",
       "      <td>0.436234</td>\n",
       "      <td>0.319894</td>\n",
       "    </tr>\n",
       "    <tr>\n",
       "      <th>banyos</th>\n",
       "      <td>0.597250</td>\n",
       "      <td>0.084823</td>\n",
       "      <td>-0.361897</td>\n",
       "      <td>0.297498</td>\n",
       "      <td>0.718564</td>\n",
       "      <td>0.179541</td>\n",
       "      <td>0.458033</td>\n",
       "      <td>0.436234</td>\n",
       "      <td>1.000000</td>\n",
       "      <td>0.517585</td>\n",
       "    </tr>\n",
       "    <tr>\n",
       "      <th>habitaciones</th>\n",
       "      <td>0.531170</td>\n",
       "      <td>0.137604</td>\n",
       "      <td>-0.082264</td>\n",
       "      <td>0.298865</td>\n",
       "      <td>0.733666</td>\n",
       "      <td>0.157068</td>\n",
       "      <td>0.671863</td>\n",
       "      <td>0.319894</td>\n",
       "      <td>0.517585</td>\n",
       "      <td>1.000000</td>\n",
       "    </tr>\n",
       "  </tbody>\n",
       "</table>\n",
       "</div>"
      ],
      "text/plain": [
       "                     precio  metros_totales  antiguedad  precio_terreno  \\\n",
       "precio             1.000000        0.158333   -0.188793        0.581266   \n",
       "metros_totales     0.158333        1.000000   -0.016352        0.059222   \n",
       "antiguedad        -0.188793       -0.016352    1.000000       -0.021818   \n",
       "precio_terreno     0.581266        0.059222   -0.021818        1.000000   \n",
       "metros_habitables  0.712390        0.163450   -0.174242        0.423441   \n",
       "universitarios     0.200119       -0.033148   -0.037785        0.228427   \n",
       "dormitorios        0.400349        0.113982    0.027125        0.202449   \n",
       "chimenea           0.376786        0.085226   -0.172022        0.211727   \n",
       "banyos             0.597250        0.084823   -0.361897        0.297498   \n",
       "habitaciones       0.531170        0.137604   -0.082264        0.298865   \n",
       "\n",
       "                   metros_habitables  universitarios  dormitorios  chimenea  \\\n",
       "precio                      0.712390        0.200119     0.400349  0.376786   \n",
       "metros_totales              0.163450       -0.033148     0.113982  0.085226   \n",
       "antiguedad                 -0.174242       -0.037785     0.027125 -0.172022   \n",
       "precio_terreno              0.423441        0.228427     0.202449  0.211727   \n",
       "metros_habitables           1.000000        0.209981     0.656196  0.473788   \n",
       "universitarios              0.209981        1.000000     0.162919  0.246626   \n",
       "dormitorios                 0.656196        0.162919     1.000000  0.284475   \n",
       "chimenea                    0.473788        0.246626     0.284475  1.000000   \n",
       "banyos                      0.718564        0.179541     0.458033  0.436234   \n",
       "habitaciones                0.733666        0.157068     0.671863  0.319894   \n",
       "\n",
       "                     banyos  habitaciones  \n",
       "precio             0.597250      0.531170  \n",
       "metros_totales     0.084823      0.137604  \n",
       "antiguedad        -0.361897     -0.082264  \n",
       "precio_terreno     0.297498      0.298865  \n",
       "metros_habitables  0.718564      0.733666  \n",
       "universitarios     0.179541      0.157068  \n",
       "dormitorios        0.458033      0.671863  \n",
       "chimenea           0.436234      0.319894  \n",
       "banyos             1.000000      0.517585  \n",
       "habitaciones       0.517585      1.000000  "
      ]
     },
     "execution_count": 13,
     "metadata": {},
     "output_type": "execute_result"
    }
   ],
   "source": [
    "datos.select_dtypes(include=['float64','int64','int']).corr(method='pearson')"
   ]
  },
  {
   "cell_type": "code",
   "execution_count": 14,
   "id": "8f373201",
   "metadata": {},
   "outputs": [
    {
     "data": {
      "text/plain": [
       "<matplotlib.image.AxesImage at 0x1a50cbb1af0>"
      ]
     },
     "execution_count": 14,
     "metadata": {},
     "output_type": "execute_result"
    },
    {
     "data": {
      "image/png": "[encoded data removed]",
      "text/plain": [
       "<Figure size 288x288 with 1 Axes>"
      ]
     },
     "metadata": {
      "needs_background": "light"
     },
     "output_type": "display_data"
    }
   ],
   "source": [
    "plt.matshow(datos.select_dtypes(include=['float64','int64','int']).corr(method='pearson'), cmap=plt.cm.YlOrRd)"
   ]
  },
  {
   "cell_type": "markdown",
   "id": "f7d0284f",
   "metadata": {},
   "source": [
    "#### Cálculo del Factor de inflación de la varianza (VIF) para las variables predictoras\n",
    "\n",
    "- Si VIF = 1 -> No hay correlacion entre las vars\n",
    "- Si VIF = 1-5 -> Existe cierta correlacion, pero las variables podrian seguir perteneciendo al modelo\n",
    "- Si VIF > 5 -> Vars muy correlacionadas y han de ser eliminadas del modelo."
   ]
  },
  {
   "cell_type": "code",
   "execution_count": 15,
   "id": "8fab73b5",
   "metadata": {},
   "outputs": [
    {
     "data": {
      "text/plain": [
       "1.1507077583933585"
      ]
     },
     "execution_count": 15,
     "metadata": {},
     "output_type": "execute_result"
    }
   ],
   "source": [
    "# calculo FIV para metros_habitables frente banyos\n",
    "lm_n = smf.ols(formula=\"banyos~antiguedad\", data=datos).fit()\n",
    "rsquared_n = lm_n.rsquared\n",
    "VIF = 1/(1-rsquared_n)\n",
    "VIF"
   ]
  },
  {
   "cell_type": "code",
   "execution_count": 16,
   "id": "0a5f3412",
   "metadata": {},
   "outputs": [
    {
     "data": {
      "text/plain": [
       "1.0004762473397795"
      ]
     },
     "execution_count": 16,
     "metadata": {},
     "output_type": "execute_result"
    }
   ],
   "source": [
    "# calculo FIV para metros_habitables frente dormitorios\n",
    "lm_n = smf.ols(formula=\"precio_terreno~antiguedad\", data=datos).fit()\n",
    "rsquared_n = lm_n.rsquared\n",
    "VIF = 1/(1-rsquared_n)\n",
    "VIF"
   ]
  },
  {
   "cell_type": "code",
   "execution_count": 17,
   "id": "ed70e5b4",
   "metadata": {},
   "outputs": [
    {
     "name": "stderr",
     "output_type": "stream",
     "text": [
      "<ipython-input-17-018b461a0279>:24: FutureWarning: elementwise comparison failed; returning scalar instead, but in the future will perform elementwise comparison\n",
      "  if (arrayVIF == ''):\n"
     ]
    },
    {
     "data": {
      "text/plain": [
       "array([[999.,   1.,   1.,   2.,   2.,   1.,   1.,   1.,   2.,   1.],\n",
       "       [  1., 999.,   1.,   1.,   1.,   1.,   1.,   1.,   1.,   1.],\n",
       "       [  1.,   1., 999.,   1.,   1.,   1.,   1.,   1.,   1.,   1.],\n",
       "       [  2.,   1.,   1., 999.,   1.,   1.,   1.,   1.,   1.,   1.],\n",
       "       [  2.,   1.,   1.,   1., 999.,   1.,   2.,   1.,   2.,   2.],\n",
       "       [  1.,   1.,   1.,   1.,   1., 999.,   1.,   1.,   1.,   1.],\n",
       "       [  1.,   1.,   1.,   1.,   2.,   1., 999.,   1.,   1.,   2.],\n",
       "       [  1.,   1.,   1.,   1.,   1.,   1.,   1., 999.,   1.,   1.],\n",
       "       [  2.,   1.,   1.,   1.,   2.,   1.,   1.,   1., 999.,   1.],\n",
       "       [  1.,   1.,   1.,   1.,   2.,   1.,   2.,   1.,   1., 999.]])"
      ]
     },
     "execution_count": 17,
     "metadata": {},
     "output_type": "execute_result"
    }
   ],
   "source": [
    "# MATRIZ de VIFs para todas las columnas numericas:\n",
    "# =================================================\n",
    "cols = list(datos.select_dtypes(include=['float64','int64','int']).columns.values)\n",
    "\n",
    "filaVIF=[]\n",
    "arrayVIF = ''\n",
    "\n",
    "\n",
    "for i in cols:\n",
    "    for j in cols:\n",
    "        var = i + '~'+ j\n",
    "        if (i==j):\n",
    "            VIF=999 # VIF(A~A) = 'inf' y peta. Debo darle un valor numerico)\n",
    "        else:    \n",
    "            lm_n = smf.ols(formula=var, data=datos).fit()\n",
    "            rsquared_n = lm_n.rsquared\n",
    "            VIF = round(1/(1-rsquared_n),0)\n",
    "        #print('VIF('+var+')',VIF)\n",
    "        filaVIF.append(VIF)\n",
    "    #print('filaVIF: \\n', filaVIF)\n",
    "    npFilaVIF = np.array([filaVIF])\n",
    "    filaVIF = []\n",
    "    \n",
    "    if (arrayVIF == ''):\n",
    "        arrayVIF = npFilaVIF\n",
    "    else:\n",
    "        arrayVIF = np.append(arrayVIF, npFilaVIF , axis=0)\n",
    "    #print('npFilaVIF_app:\\n', npFilaVIF_old)\n",
    "    \n",
    "arrayVIF"
   ]
  },
  {
   "cell_type": "code",
   "execution_count": 18,
   "id": "72ad41fa",
   "metadata": {},
   "outputs": [
    {
     "data": {
      "image/png": "[encoded data removed]",
      "text/plain": [
       "<Figure size 288x288 with 1 Axes>"
      ]
     },
     "metadata": {
      "needs_background": "light"
     },
     "output_type": "display_data"
    }
   ],
   "source": [
    "from matplotlib import colors\n",
    "import matplotlib as mpl\n",
    "\n",
    "cmap = colors.ListedColormap(['darkgreen','teal', 'mediumseagreen','yellowgreen'])\n",
    "\n",
    "#cmap = mpl.cm.viridis\n",
    "\n",
    "bounds = [0, 1, 2, 3, 5]\n",
    "norm = colors.BoundaryNorm(bounds, cmap.N)\n",
    "\n",
    "dummy = plt.matshow(arrayVIF, cmap=cmap, norm=norm)"
   ]
  },
  {
   "cell_type": "markdown",
   "id": "56ed47ba",
   "metadata": {},
   "source": [
    "#### Comprobacion de la linealidad entre la variable de salida y las variables predictoras"
   ]
  },
  {
   "cell_type": "code",
   "execution_count": 19,
   "id": "4338b74f",
   "metadata": {},
   "outputs": [
    {
     "data": {
      "image/png": "[encoded data removed]",
      "text/plain": [
       "<Figure size 1080x792 with 9 Axes>"
      ]
     },
     "metadata": {
      "needs_background": "light"
     },
     "output_type": "display_data"
    }
   ],
   "source": [
    "fig, axes = plt.subplots(nrows=3, ncols=3, figsize=(15,11))\n",
    "\n",
    "#ax is a two-dimensional array: one dimension for the rows, one for the columns.\n",
    "#if you want to iterate through the subplots in the way you do it now, by flattening ax first: ax = ax.flatten()\n",
    "#and now ax is a one dimensional array. \n",
    "axes = axes.flat\n",
    "\n",
    "columnas_numeric = datos.select_dtypes(include=['float64', 'int64', 'int']).columns\n",
    "columnas_numeric = columnas_numeric.drop('precio')\n",
    "\n",
    "for i, col  in enumerate(columnas_numeric):\n",
    "    axes[i].plot(datos[col], datos.precio, 'r.')\n",
    "    axes[i].set(xlabel=col, ylabel='Precio')\n",
    "\n",
    "fig.tight_layout()\n"
   ]
  },
  {
   "cell_type": "markdown",
   "id": "c6849114",
   "metadata": {},
   "source": [
    "#### Seleccion de variables predictoras con sckit-learn"
   ]
  },
  {
   "cell_type": "code",
   "execution_count": 20,
   "id": "54678efd",
   "metadata": {},
   "outputs": [],
   "source": [
    "from sklearn.feature_selection import RFE\n",
    "from sklearn.svm import SVR"
   ]
  },
  {
   "cell_type": "code",
   "execution_count": 29,
   "id": "2f049440",
   "metadata": {},
   "outputs": [
    {
     "data": {
      "text/plain": [
       "['metros_totales',\n",
       " 'antiguedad',\n",
       " 'precio_terreno',\n",
       " 'metros_habitables',\n",
       " 'universitarios',\n",
       " 'dormitorios',\n",
       " 'chimenea',\n",
       " 'banyos',\n",
       " 'habitaciones']"
      ]
     },
     "execution_count": 29,
     "metadata": {},
     "output_type": "execute_result"
    }
   ],
   "source": [
    "# Columnas que seran var predictivas numericas\n",
    "feature_cols = datos.select_dtypes(include=['float64','int64','int']).columns.values.tolist()\n",
    "feature_cols.pop(0) # quitamos el precio que es var de salida, no predictora\n",
    "feature_cols"
   ]
  },
  {
   "cell_type": "code",
   "execution_count": 31,
   "id": "74452930",
   "metadata": {},
   "outputs": [],
   "source": [
    "X = datos_testing[feature_cols]\n",
    "Y = datos_testing['precio']"
   ]
  },
  {
   "cell_type": "code",
   "execution_count": 60,
   "id": "e69a6250",
   "metadata": {},
   "outputs": [
    {
     "name": "stderr",
     "output_type": "stream",
     "text": [
      "C:\\Users\\mhern\\anaconda3\\lib\\site-packages\\sklearn\\utils\\validation.py:70: FutureWarning: Pass n_features_to_select=4 as keyword args. From version 1.0 (renaming of 0.25) passing these as positional arguments will result in an error\n",
      "  warnings.warn(f\"Pass {args_msg} as keyword args. From version \"\n"
     ]
    },
    {
     "data": {
      "text/plain": [
       "array([False,  True, False,  True,  True,  True, False, False, False])"
      ]
     },
     "execution_count": 60,
     "metadata": {},
     "output_type": "execute_result"
    }
   ],
   "source": [
    "#start_time = time.time()\n",
    "estimator = SVR(kernel='linear')\n",
    "selector = RFE(estimator, 4, step=2) # quedarse con 4 var predictivas, quitando 1 var por paso de calculo\n",
    "selector = selector.fit(X,Y)\n",
    "\n",
    "# variables aceptadas para el modelo:\n",
    "selector.support_\n",
    "#print(\"--- %s seconds ---\" % (time.time() - start_time))"
   ]
  },
  {
   "cell_type": "markdown",
   "id": "eeb57892",
   "metadata": {},
   "source": [
    "Obtenemos el nombre de las variables aceptadas mediante **<code>filtrado con array booleano</code>**:"
   ]
  },
  {
   "cell_type": "code",
   "execution_count": 61,
   "id": "a2b3a1a6",
   "metadata": {},
   "outputs": [
    {
     "data": {
      "text/plain": [
       "array(['antiguedad', 'metros_habitables', 'universitarios', 'dormitorios'],\n",
       "      dtype=object)"
      ]
     },
     "execution_count": 61,
     "metadata": {},
     "output_type": "execute_result"
    }
   ],
   "source": [
    "list_a = datos.select_dtypes(include=['float64','int64','int']).columns.values\n",
    "list_a = list_a[1:] # quitamos precio\n",
    "filter = selector.support_\n",
    "list_a[filter]"
   ]
  },
  {
   "cell_type": "markdown",
   "id": "9296d9e6",
   "metadata": {},
   "source": [
    "Repetimos para los datos de training, y vemos que nos salen las mismas variables."
   ]
  },
  {
   "cell_type": "code",
   "execution_count": 64,
   "id": "35fe768f",
   "metadata": {},
   "outputs": [
    {
     "name": "stderr",
     "output_type": "stream",
     "text": [
      "C:\\Users\\mhern\\anaconda3\\lib\\site-packages\\sklearn\\utils\\validation.py:70: FutureWarning: Pass n_features_to_select=4 as keyword args. From version 1.0 (renaming of 0.25) passing these as positional arguments will result in an error\n",
      "  warnings.warn(f\"Pass {args_msg} as keyword args. From version \"\n"
     ]
    },
    {
     "data": {
      "text/plain": [
       "array(['antiguedad', 'metros_habitables', 'universitarios',\n",
       "       'habitaciones'], dtype=object)"
      ]
     },
     "execution_count": 64,
     "metadata": {},
     "output_type": "execute_result"
    }
   ],
   "source": [
    "feature_cols = datos.select_dtypes(include=['float64','int64','int']).columns.values\n",
    "feature_cols = feature_cols[1:] # quitamos precio\n",
    "\n",
    "X = datos_training[feature_cols]\n",
    "Y = datos_training['precio']\n",
    "\n",
    "estimator = SVR(kernel='linear')\n",
    "selector = RFE(estimator, 4, step=2) # quedarse con 4 var predictivas, quitando 1 var por paso de calculo\n",
    "selector = selector.fit(X,Y)\n",
    "\n",
    "# variables aceptadas para el modelo:\n",
    "selector.support_\n",
    "\n",
    "list_a = datos.select_dtypes(include=['float64','int64','int']).columns.values\n",
    "list_a = list_a[1:] # quitamos precio\n",
    "filter = selector.support_\n",
    "list_a[filter]"
   ]
  },
  {
   "cell_type": "markdown",
   "id": "730ba9ea",
   "metadata": {},
   "source": [
    "### Variables categoricas"
   ]
  },
  {
   "cell_type": "code",
   "execution_count": 75,
   "id": "ce56c69d",
   "metadata": {},
   "outputs": [
    {
     "data": {
      "text/html": [
       "<div>\n",
       "<style scoped>\n",
       "    .dataframe tbody tr th:only-of-type {\n",
       "        vertical-align: middle;\n",
       "    }\n",
       "\n",
       "    .dataframe tbody tr th {\n",
       "        vertical-align: top;\n",
       "    }\n",
       "\n",
       "    .dataframe thead th {\n",
       "        text-align: right;\n",
       "    }\n",
       "</style>\n",
       "<table border=\"1\" class=\"dataframe\">\n",
       "  <thead>\n",
       "    <tr style=\"text-align: right;\">\n",
       "      <th></th>\n",
       "      <th>calefaccion</th>\n",
       "      <th>consumo_calefacion</th>\n",
       "      <th>desague</th>\n",
       "      <th>vistas_lago</th>\n",
       "      <th>nueva_construccion</th>\n",
       "      <th>aire_acondicionado</th>\n",
       "    </tr>\n",
       "  </thead>\n",
       "  <tbody>\n",
       "    <tr>\n",
       "      <th>count</th>\n",
       "      <td>1728</td>\n",
       "      <td>1728</td>\n",
       "      <td>1728</td>\n",
       "      <td>1728</td>\n",
       "      <td>1728</td>\n",
       "      <td>1728</td>\n",
       "    </tr>\n",
       "    <tr>\n",
       "      <th>unique</th>\n",
       "      <td>3</td>\n",
       "      <td>3</td>\n",
       "      <td>3</td>\n",
       "      <td>2</td>\n",
       "      <td>2</td>\n",
       "      <td>2</td>\n",
       "    </tr>\n",
       "    <tr>\n",
       "      <th>top</th>\n",
       "      <td>hot air</td>\n",
       "      <td>gas</td>\n",
       "      <td>public/commercial</td>\n",
       "      <td>No</td>\n",
       "      <td>No</td>\n",
       "      <td>No</td>\n",
       "    </tr>\n",
       "    <tr>\n",
       "      <th>freq</th>\n",
       "      <td>1121</td>\n",
       "      <td>1197</td>\n",
       "      <td>1213</td>\n",
       "      <td>1713</td>\n",
       "      <td>1647</td>\n",
       "      <td>1093</td>\n",
       "    </tr>\n",
       "  </tbody>\n",
       "</table>\n",
       "</div>"
      ],
      "text/plain": [
       "       calefaccion consumo_calefacion            desague vistas_lago  \\\n",
       "count         1728               1728               1728        1728   \n",
       "unique           3                  3                  3           2   \n",
       "top        hot air                gas  public/commercial          No   \n",
       "freq          1121               1197               1213        1713   \n",
       "\n",
       "       nueva_construccion aire_acondicionado  \n",
       "count                1728               1728  \n",
       "unique                  2                  2  \n",
       "top                    No                 No  \n",
       "freq                 1647               1093  "
      ]
     },
     "execution_count": 75,
     "metadata": {},
     "output_type": "execute_result"
    }
   ],
   "source": [
    "datos.select_dtypes(include=['object']).describe()"
   ]
  },
  {
   "cell_type": "code",
   "execution_count": 76,
   "id": "84a638ce",
   "metadata": {},
   "outputs": [
    {
     "name": "stdout",
     "output_type": "stream",
     "text": [
      "calefaccion ['electric' 'hot water/steam' 'hot air']\n",
      "consumo_calefacion ['electric' 'gas' 'oil']\n",
      "desague ['septic' 'public/commercial' 'none']\n",
      "vistas_lago ['No' 'Yes']\n",
      "nueva_construccion ['No' 'Yes']\n",
      "aire_acondicionado ['No' 'Yes']\n"
     ]
    }
   ],
   "source": [
    "# valores unicos de cada var categorica:\n",
    "for i in datos.select_dtypes(include=['object']):\n",
    "    print(i, datos[i].unique())"
   ]
  },
  {
   "cell_type": "markdown",
   "id": "5730c8e7",
   "metadata": {},
   "source": [
    "Creamos las variables dummy para cada variable categorica:"
   ]
  },
  {
   "cell_type": "code",
   "execution_count": 77,
   "id": "e9cb837f",
   "metadata": {},
   "outputs": [
    {
     "data": {
      "text/html": [
       "<div>\n",
       "<style scoped>\n",
       "    .dataframe tbody tr th:only-of-type {\n",
       "        vertical-align: middle;\n",
       "    }\n",
       "\n",
       "    .dataframe tbody tr th {\n",
       "        vertical-align: top;\n",
       "    }\n",
       "\n",
       "    .dataframe thead th {\n",
       "        text-align: right;\n",
       "    }\n",
       "</style>\n",
       "<table border=\"1\" class=\"dataframe\">\n",
       "  <thead>\n",
       "    <tr style=\"text-align: right;\">\n",
       "      <th></th>\n",
       "      <th>calefaccion_electric</th>\n",
       "      <th>calefaccion_hot air</th>\n",
       "      <th>calefaccion_hot water/steam</th>\n",
       "    </tr>\n",
       "  </thead>\n",
       "  <tbody>\n",
       "    <tr>\n",
       "      <th>0</th>\n",
       "      <td>1</td>\n",
       "      <td>0</td>\n",
       "      <td>0</td>\n",
       "    </tr>\n",
       "    <tr>\n",
       "      <th>1</th>\n",
       "      <td>0</td>\n",
       "      <td>0</td>\n",
       "      <td>1</td>\n",
       "    </tr>\n",
       "    <tr>\n",
       "      <th>2</th>\n",
       "      <td>0</td>\n",
       "      <td>0</td>\n",
       "      <td>1</td>\n",
       "    </tr>\n",
       "    <tr>\n",
       "      <th>3</th>\n",
       "      <td>0</td>\n",
       "      <td>1</td>\n",
       "      <td>0</td>\n",
       "    </tr>\n",
       "    <tr>\n",
       "      <th>4</th>\n",
       "      <td>0</td>\n",
       "      <td>1</td>\n",
       "      <td>0</td>\n",
       "    </tr>\n",
       "  </tbody>\n",
       "</table>\n",
       "</div>"
      ],
      "text/plain": [
       "   calefaccion_electric  calefaccion_hot air  calefaccion_hot water/steam\n",
       "0                     1                    0                            0\n",
       "1                     0                    0                            1\n",
       "2                     0                    0                            1\n",
       "3                     0                    1                            0\n",
       "4                     0                    1                            0"
      ]
     },
     "execution_count": 77,
     "metadata": {},
     "output_type": "execute_result"
    }
   ],
   "source": [
    "dummy_calefaccion  = pd.get_dummies(datos['calefaccion'], prefix = 'calefaccion')\n",
    "dummy_calefaccion.head()"
   ]
  },
  {
   "cell_type": "code",
   "execution_count": 78,
   "id": "57a5f89d",
   "metadata": {},
   "outputs": [
    {
     "data": {
      "text/html": [
       "<div>\n",
       "<style scoped>\n",
       "    .dataframe tbody tr th:only-of-type {\n",
       "        vertical-align: middle;\n",
       "    }\n",
       "\n",
       "    .dataframe tbody tr th {\n",
       "        vertical-align: top;\n",
       "    }\n",
       "\n",
       "    .dataframe thead th {\n",
       "        text-align: right;\n",
       "    }\n",
       "</style>\n",
       "<table border=\"1\" class=\"dataframe\">\n",
       "  <thead>\n",
       "    <tr style=\"text-align: right;\">\n",
       "      <th></th>\n",
       "      <th>aire_acondicionado_No</th>\n",
       "      <th>aire_acondicionado_Yes</th>\n",
       "    </tr>\n",
       "  </thead>\n",
       "  <tbody>\n",
       "    <tr>\n",
       "      <th>0</th>\n",
       "      <td>1</td>\n",
       "      <td>0</td>\n",
       "    </tr>\n",
       "    <tr>\n",
       "      <th>1</th>\n",
       "      <td>1</td>\n",
       "      <td>0</td>\n",
       "    </tr>\n",
       "    <tr>\n",
       "      <th>2</th>\n",
       "      <td>1</td>\n",
       "      <td>0</td>\n",
       "    </tr>\n",
       "    <tr>\n",
       "      <th>3</th>\n",
       "      <td>1</td>\n",
       "      <td>0</td>\n",
       "    </tr>\n",
       "    <tr>\n",
       "      <th>4</th>\n",
       "      <td>0</td>\n",
       "      <td>1</td>\n",
       "    </tr>\n",
       "  </tbody>\n",
       "</table>\n",
       "</div>"
      ],
      "text/plain": [
       "   aire_acondicionado_No  aire_acondicionado_Yes\n",
       "0                      1                       0\n",
       "1                      1                       0\n",
       "2                      1                       0\n",
       "3                      1                       0\n",
       "4                      0                       1"
      ]
     },
     "execution_count": 78,
     "metadata": {},
     "output_type": "execute_result"
    }
   ],
   "source": [
    "dummy_aire_acondicionado   = pd.get_dummies(datos['aire_acondicionado'], prefix = 'aire_acondicionado')\n",
    "dummy_aire_acondicionado.head()"
   ]
  },
  {
   "cell_type": "markdown",
   "id": "54071ce3",
   "metadata": {},
   "source": [
    "Añadimos estas var dummies al dataset:"
   ]
  },
  {
   "cell_type": "code",
   "execution_count": 79,
   "id": "09ccd367",
   "metadata": {},
   "outputs": [
    {
     "data": {
      "text/html": [
       "<div>\n",
       "<style scoped>\n",
       "    .dataframe tbody tr th:only-of-type {\n",
       "        vertical-align: middle;\n",
       "    }\n",
       "\n",
       "    .dataframe tbody tr th {\n",
       "        vertical-align: top;\n",
       "    }\n",
       "\n",
       "    .dataframe thead th {\n",
       "        text-align: right;\n",
       "    }\n",
       "</style>\n",
       "<table border=\"1\" class=\"dataframe\">\n",
       "  <thead>\n",
       "    <tr style=\"text-align: right;\">\n",
       "      <th></th>\n",
       "      <th>precio</th>\n",
       "      <th>metros_totales</th>\n",
       "      <th>antiguedad</th>\n",
       "      <th>precio_terreno</th>\n",
       "      <th>metros_habitables</th>\n",
       "      <th>universitarios</th>\n",
       "      <th>dormitorios</th>\n",
       "      <th>chimenea</th>\n",
       "      <th>banyos</th>\n",
       "      <th>habitaciones</th>\n",
       "      <th>calefaccion</th>\n",
       "      <th>consumo_calefacion</th>\n",
       "      <th>desague</th>\n",
       "      <th>vistas_lago</th>\n",
       "      <th>nueva_construccion</th>\n",
       "      <th>aire_acondicionado</th>\n",
       "      <th>calefaccion_electric</th>\n",
       "      <th>calefaccion_hot air</th>\n",
       "      <th>calefaccion_hot water/steam</th>\n",
       "    </tr>\n",
       "  </thead>\n",
       "  <tbody>\n",
       "    <tr>\n",
       "      <th>0</th>\n",
       "      <td>132500</td>\n",
       "      <td>0.09</td>\n",
       "      <td>42</td>\n",
       "      <td>50000</td>\n",
       "      <td>906</td>\n",
       "      <td>35</td>\n",
       "      <td>2</td>\n",
       "      <td>1</td>\n",
       "      <td>1.0</td>\n",
       "      <td>5</td>\n",
       "      <td>electric</td>\n",
       "      <td>electric</td>\n",
       "      <td>septic</td>\n",
       "      <td>No</td>\n",
       "      <td>No</td>\n",
       "      <td>No</td>\n",
       "      <td>1</td>\n",
       "      <td>0</td>\n",
       "      <td>0</td>\n",
       "    </tr>\n",
       "    <tr>\n",
       "      <th>1</th>\n",
       "      <td>181115</td>\n",
       "      <td>0.92</td>\n",
       "      <td>0</td>\n",
       "      <td>22300</td>\n",
       "      <td>1953</td>\n",
       "      <td>51</td>\n",
       "      <td>3</td>\n",
       "      <td>0</td>\n",
       "      <td>2.5</td>\n",
       "      <td>6</td>\n",
       "      <td>hot water/steam</td>\n",
       "      <td>gas</td>\n",
       "      <td>septic</td>\n",
       "      <td>No</td>\n",
       "      <td>No</td>\n",
       "      <td>No</td>\n",
       "      <td>0</td>\n",
       "      <td>0</td>\n",
       "      <td>1</td>\n",
       "    </tr>\n",
       "    <tr>\n",
       "      <th>2</th>\n",
       "      <td>109000</td>\n",
       "      <td>0.19</td>\n",
       "      <td>133</td>\n",
       "      <td>7300</td>\n",
       "      <td>1944</td>\n",
       "      <td>51</td>\n",
       "      <td>4</td>\n",
       "      <td>1</td>\n",
       "      <td>1.0</td>\n",
       "      <td>8</td>\n",
       "      <td>hot water/steam</td>\n",
       "      <td>gas</td>\n",
       "      <td>public/commercial</td>\n",
       "      <td>No</td>\n",
       "      <td>No</td>\n",
       "      <td>No</td>\n",
       "      <td>0</td>\n",
       "      <td>0</td>\n",
       "      <td>1</td>\n",
       "    </tr>\n",
       "    <tr>\n",
       "      <th>3</th>\n",
       "      <td>155000</td>\n",
       "      <td>0.41</td>\n",
       "      <td>13</td>\n",
       "      <td>18700</td>\n",
       "      <td>1944</td>\n",
       "      <td>51</td>\n",
       "      <td>3</td>\n",
       "      <td>1</td>\n",
       "      <td>1.5</td>\n",
       "      <td>5</td>\n",
       "      <td>hot air</td>\n",
       "      <td>gas</td>\n",
       "      <td>septic</td>\n",
       "      <td>No</td>\n",
       "      <td>No</td>\n",
       "      <td>No</td>\n",
       "      <td>0</td>\n",
       "      <td>1</td>\n",
       "      <td>0</td>\n",
       "    </tr>\n",
       "    <tr>\n",
       "      <th>4</th>\n",
       "      <td>86060</td>\n",
       "      <td>0.11</td>\n",
       "      <td>0</td>\n",
       "      <td>15000</td>\n",
       "      <td>840</td>\n",
       "      <td>51</td>\n",
       "      <td>2</td>\n",
       "      <td>0</td>\n",
       "      <td>1.0</td>\n",
       "      <td>3</td>\n",
       "      <td>hot air</td>\n",
       "      <td>gas</td>\n",
       "      <td>public/commercial</td>\n",
       "      <td>No</td>\n",
       "      <td>Yes</td>\n",
       "      <td>Yes</td>\n",
       "      <td>0</td>\n",
       "      <td>1</td>\n",
       "      <td>0</td>\n",
       "    </tr>\n",
       "  </tbody>\n",
       "</table>\n",
       "</div>"
      ],
      "text/plain": [
       "   precio  metros_totales  antiguedad  precio_terreno  metros_habitables  \\\n",
       "0  132500            0.09          42           50000                906   \n",
       "1  181115            0.92           0           22300               1953   \n",
       "2  109000            0.19         133            7300               1944   \n",
       "3  155000            0.41          13           18700               1944   \n",
       "4   86060            0.11           0           15000                840   \n",
       "\n",
       "   universitarios  dormitorios  chimenea  banyos  habitaciones  \\\n",
       "0              35            2         1     1.0             5   \n",
       "1              51            3         0     2.5             6   \n",
       "2              51            4         1     1.0             8   \n",
       "3              51            3         1     1.5             5   \n",
       "4              51            2         0     1.0             3   \n",
       "\n",
       "       calefaccion consumo_calefacion            desague vistas_lago  \\\n",
       "0         electric           electric             septic          No   \n",
       "1  hot water/steam                gas             septic          No   \n",
       "2  hot water/steam                gas  public/commercial          No   \n",
       "3          hot air                gas             septic          No   \n",
       "4          hot air                gas  public/commercial          No   \n",
       "\n",
       "  nueva_construccion aire_acondicionado  calefaccion_electric  \\\n",
       "0                 No                 No                     1   \n",
       "1                 No                 No                     0   \n",
       "2                 No                 No                     0   \n",
       "3                 No                 No                     0   \n",
       "4                Yes                Yes                     0   \n",
       "\n",
       "   calefaccion_hot air  calefaccion_hot water/steam  \n",
       "0                    0                            0  \n",
       "1                    0                            1  \n",
       "2                    0                            1  \n",
       "3                    1                            0  \n",
       "4                    1                            0  "
      ]
     },
     "execution_count": 79,
     "metadata": {},
     "output_type": "execute_result"
    }
   ],
   "source": [
    "datos_new = datos.join(dummy_calefaccion)\n",
    "column_names = datos_new.columns.values.tolist()\n",
    "datos_new.head()"
   ]
  },
  {
   "cell_type": "markdown",
   "id": "58777315",
   "metadata": {},
   "source": [
    "Comprobemos la relacion lineal entre la variable de salida (precio) con las categoricas (a traves de lso dummies):"
   ]
  },
  {
   "cell_type": "code",
   "execution_count": 80,
   "id": "5144b43c",
   "metadata": {},
   "outputs": [
    {
     "data": {
      "image/png": "[encoded data removed]",
      "text/plain": [
       "<Figure size 1080x360 with 4 Axes>"
      ]
     },
     "metadata": {
      "needs_background": "light"
     },
     "output_type": "display_data"
    }
   ],
   "source": [
    "fig, axes = plt.subplots(nrows=2, ncols=2, figsize=(15,5))\n",
    "axes = axes.ravel() # importante aplanar porque subplots devuelve las figuras como una lista de listas!\n",
    "\n",
    "columnas_object = ['calefaccion', 'calefaccion_electric','calefaccion_hot air','calefaccion_hot water/steam']\n",
    "\n",
    "for i, cols in enumerate(columnas_object):\n",
    "    axes[i].plot(datos_new[cols],datos_new.precio,'ro')\n",
    "    axes[i].set_title(cols)"
   ]
  },
  {
   "cell_type": "markdown",
   "id": "ca976965",
   "metadata": {},
   "source": [
    "### Modelo"
   ]
  },
  {
   "cell_type": "markdown",
   "id": "6a6d2ea2",
   "metadata": {},
   "source": [
    "1) Calculo mejores variables predictoras mediante scikit-learn (incluye variables binarias): "
   ]
  },
  {
   "cell_type": "code",
   "execution_count": 87,
   "id": "b3bf129a",
   "metadata": {},
   "outputs": [
    {
     "data": {
      "text/plain": [
       "(1402, 326)"
      ]
     },
     "execution_count": 87,
     "metadata": {},
     "output_type": "execute_result"
    }
   ],
   "source": [
    "datos_dummy = datos_new.select_dtypes(include=['float64','int64','int','uint8'])\n",
    "\n",
    "a = np.random.randn(len(datos_dummy))\n",
    "check = (a<0.8)\n",
    "datos_dummy_training = datos_dummy[check]\n",
    "datos_dummy_testing = datos_dummy[~check]\n",
    "\n",
    "len(datos_dummy_training), len(datos_dummy_testing)"
   ]
  },
  {
   "cell_type": "code",
   "execution_count": 91,
   "id": "bb6353ce",
   "metadata": {},
   "outputs": [
    {
     "name": "stderr",
     "output_type": "stream",
     "text": [
      "C:\\Users\\mhern\\anaconda3\\lib\\site-packages\\sklearn\\utils\\validation.py:70: FutureWarning: Pass n_features_to_select=4 as keyword args. From version 1.0 (renaming of 0.25) passing these as positional arguments will result in an error\n",
      "  warnings.warn(f\"Pass {args_msg} as keyword args. From version \"\n"
     ]
    },
    {
     "data": {
      "text/plain": [
       "array(['antiguedad', 'metros_habitables', 'universitarios',\n",
       "       'habitaciones'], dtype=object)"
      ]
     },
     "execution_count": 91,
     "metadata": {},
     "output_type": "execute_result"
    }
   ],
   "source": [
    "feature_cols = datos_dummy_training.columns.values\n",
    "feature_cols = feature_cols[1:] # quitamos precio\n",
    "\n",
    "X = datos_dummy_training[feature_cols]\n",
    "Y = datos_dummy_training['precio']\n",
    "\n",
    "estimator = SVR(kernel='linear')\n",
    "selector = RFE(estimator, 4, step=2) # quedarse con 4 var predictivas, quitando 1 var por paso de calculo\n",
    "selector = selector.fit(X,Y)\n",
    "\n",
    "# variables aceptadas para el modelo:\n",
    "selector.support_\n",
    "\n",
    "list_a = datos_dummy_training.select_dtypes(include=['float64','int64','int','uint8']).columns.values\n",
    "list_a = list_a[1:] # quitamos precio\n",
    "filter = selector.support_\n",
    "list_a[filter]"
   ]
  },
  {
   "cell_type": "code",
   "execution_count": 96,
   "id": "f324d564",
   "metadata": {},
   "outputs": [
    {
     "data": {
      "text/html": [
       "<table class=\"simpletable\">\n",
       "<caption>OLS Regression Results</caption>\n",
       "<tr>\n",
       "  <th>Dep. Variable:</th>         <td>precio</td>      <th>  R-squared:         </th> <td>   0.514</td> \n",
       "</tr>\n",
       "<tr>\n",
       "  <th>Model:</th>                   <td>OLS</td>       <th>  Adj. R-squared:    </th> <td>   0.513</td> \n",
       "</tr>\n",
       "<tr>\n",
       "  <th>Method:</th>             <td>Least Squares</td>  <th>  F-statistic:       </th> <td>   474.2</td> \n",
       "</tr>\n",
       "<tr>\n",
       "  <th>Date:</th>             <td>Mon, 17 Jan 2022</td> <th>  Prob (F-statistic):</th> <td>3.49e-210</td>\n",
       "</tr>\n",
       "<tr>\n",
       "  <th>Time:</th>                 <td>23:15:19</td>     <th>  Log-Likelihood:    </th> <td> -16978.</td> \n",
       "</tr>\n",
       "<tr>\n",
       "  <th>No. Observations:</th>      <td>  1350</td>      <th>  AIC:               </th> <td>3.396e+04</td>\n",
       "</tr>\n",
       "<tr>\n",
       "  <th>Df Residuals:</th>          <td>  1346</td>      <th>  BIC:               </th> <td>3.398e+04</td>\n",
       "</tr>\n",
       "<tr>\n",
       "  <th>Df Model:</th>              <td>     3</td>      <th>                     </th>     <td> </td>    \n",
       "</tr>\n",
       "<tr>\n",
       "  <th>Covariance Type:</th>      <td>nonrobust</td>    <th>                     </th>     <td> </td>    \n",
       "</tr>\n",
       "</table>\n",
       "<table class=\"simpletable\">\n",
       "<tr>\n",
       "          <td></td>             <th>coef</th>     <th>std err</th>      <th>t</th>      <th>P>|t|</th>  <th>[0.025</th>    <th>0.975]</th>  \n",
       "</tr>\n",
       "<tr>\n",
       "  <th>Intercept</th>         <td>-1.858e+04</td> <td> 1.13e+04</td> <td>   -1.646</td> <td> 0.100</td> <td>-4.07e+04</td> <td> 3569.025</td>\n",
       "</tr>\n",
       "<tr>\n",
       "  <th>metros_habitables</th> <td>  110.3882</td> <td>    4.563</td> <td>   24.193</td> <td> 0.000</td> <td>  101.437</td> <td>  119.339</td>\n",
       "</tr>\n",
       "<tr>\n",
       "  <th>universitarios</th>    <td>  552.9136</td> <td>  189.907</td> <td>    2.911</td> <td> 0.004</td> <td>  180.367</td> <td>  925.460</td>\n",
       "</tr>\n",
       "<tr>\n",
       "  <th>habitaciones</th>      <td>  831.7018</td> <td> 1220.179</td> <td>    0.682</td> <td> 0.496</td> <td>-1561.957</td> <td> 3225.360</td>\n",
       "</tr>\n",
       "</table>\n",
       "<table class=\"simpletable\">\n",
       "<tr>\n",
       "  <th>Omnibus:</th>       <td>492.781</td> <th>  Durbin-Watson:     </th> <td>   1.494</td>\n",
       "</tr>\n",
       "<tr>\n",
       "  <th>Prob(Omnibus):</th> <td> 0.000</td>  <th>  Jarque-Bera (JB):  </th> <td>2894.738</td>\n",
       "</tr>\n",
       "<tr>\n",
       "  <th>Skew:</th>          <td> 1.581</td>  <th>  Prob(JB):          </th> <td>    0.00</td>\n",
       "</tr>\n",
       "<tr>\n",
       "  <th>Kurtosis:</th>      <td> 9.439</td>  <th>  Cond. No.          </th> <td>1.11e+04</td>\n",
       "</tr>\n",
       "</table><br/><br/>Notes:<br/>[1] Standard Errors assume that the covariance matrix of the errors is correctly specified.<br/>[2] The condition number is large, 1.11e+04. This might indicate that there are<br/>strong multicollinearity or other numerical problems."
      ],
      "text/plain": [
       "<class 'statsmodels.iolib.summary.Summary'>\n",
       "\"\"\"\n",
       "                            OLS Regression Results                            \n",
       "==============================================================================\n",
       "Dep. Variable:                 precio   R-squared:                       0.514\n",
       "Model:                            OLS   Adj. R-squared:                  0.513\n",
       "Method:                 Least Squares   F-statistic:                     474.2\n",
       "Date:                Mon, 17 Jan 2022   Prob (F-statistic):          3.49e-210\n",
       "Time:                        23:15:19   Log-Likelihood:                -16978.\n",
       "No. Observations:                1350   AIC:                         3.396e+04\n",
       "Df Residuals:                    1346   BIC:                         3.398e+04\n",
       "Df Model:                           3                                         \n",
       "Covariance Type:            nonrobust                                         \n",
       "=====================================================================================\n",
       "                        coef    std err          t      P>|t|      [0.025      0.975]\n",
       "-------------------------------------------------------------------------------------\n",
       "Intercept         -1.858e+04   1.13e+04     -1.646      0.100   -4.07e+04    3569.025\n",
       "metros_habitables   110.3882      4.563     24.193      0.000     101.437     119.339\n",
       "universitarios      552.9136    189.907      2.911      0.004     180.367     925.460\n",
       "habitaciones        831.7018   1220.179      0.682      0.496   -1561.957    3225.360\n",
       "==============================================================================\n",
       "Omnibus:                      492.781   Durbin-Watson:                   1.494\n",
       "Prob(Omnibus):                  0.000   Jarque-Bera (JB):             2894.738\n",
       "Skew:                           1.581   Prob(JB):                         0.00\n",
       "Kurtosis:                       9.439   Cond. No.                     1.11e+04\n",
       "==============================================================================\n",
       "\n",
       "Notes:\n",
       "[1] Standard Errors assume that the covariance matrix of the errors is correctly specified.\n",
       "[2] The condition number is large, 1.11e+04. This might indicate that there are\n",
       "strong multicollinearity or other numerical problems.\n",
       "\"\"\""
      ]
     },
     "execution_count": 96,
     "metadata": {},
     "output_type": "execute_result"
    }
   ],
   "source": [
    "# Añadir al modelo existente las vars predictoras una a una \n",
    "lm = smf.ols(formula=\"precio~metros_habitables+universitarios+habitaciones\", data = datos_training).fit()\n",
    "lm.summary()"
   ]
  },
  {
   "cell_type": "markdown",
   "id": "aa3f15b7",
   "metadata": {},
   "source": [
    "2) A ojo, añadir al modelo existente las vars predictoras una a una "
   ]
  },
  {
   "cell_type": "code",
   "execution_count": 95,
   "id": "398022ce",
   "metadata": {},
   "outputs": [
    {
     "data": {
      "text/html": [
       "<table class=\"simpletable\">\n",
       "<caption>OLS Regression Results</caption>\n",
       "<tr>\n",
       "  <th>Dep. Variable:</th>         <td>precio</td>      <th>  R-squared:         </th> <td>   0.511</td> \n",
       "</tr>\n",
       "<tr>\n",
       "  <th>Model:</th>                   <td>OLS</td>       <th>  Adj. R-squared:    </th> <td>   0.510</td> \n",
       "</tr>\n",
       "<tr>\n",
       "  <th>Method:</th>             <td>Least Squares</td>  <th>  F-statistic:       </th> <td>   1406.</td> \n",
       "</tr>\n",
       "<tr>\n",
       "  <th>Date:</th>             <td>Mon, 17 Jan 2022</td> <th>  Prob (F-statistic):</th> <td>2.18e-211</td>\n",
       "</tr>\n",
       "<tr>\n",
       "  <th>Time:</th>                 <td>23:13:59</td>     <th>  Log-Likelihood:    </th> <td> -16983.</td> \n",
       "</tr>\n",
       "<tr>\n",
       "  <th>No. Observations:</th>      <td>  1350</td>      <th>  AIC:               </th> <td>3.397e+04</td>\n",
       "</tr>\n",
       "<tr>\n",
       "  <th>Df Residuals:</th>          <td>  1348</td>      <th>  BIC:               </th> <td>3.398e+04</td>\n",
       "</tr>\n",
       "<tr>\n",
       "  <th>Df Model:</th>              <td>     1</td>      <th>                     </th>     <td> </td>    \n",
       "</tr>\n",
       "<tr>\n",
       "  <th>Covariance Type:</th>      <td>nonrobust</td>    <th>                     </th>     <td> </td>    \n",
       "</tr>\n",
       "</table>\n",
       "<table class=\"simpletable\">\n",
       "<tr>\n",
       "          <td></td>             <th>coef</th>     <th>std err</th>      <th>t</th>      <th>P>|t|</th>  <th>[0.025</th>    <th>0.975]</th>  \n",
       "</tr>\n",
       "<tr>\n",
       "  <th>Intercept</th>         <td>  1.06e+04</td> <td> 5719.119</td> <td>    1.854</td> <td> 0.064</td> <td> -617.704</td> <td> 2.18e+04</td>\n",
       "</tr>\n",
       "<tr>\n",
       "  <th>metros_habitables</th> <td>  114.6246</td> <td>    3.057</td> <td>   37.499</td> <td> 0.000</td> <td>  108.628</td> <td>  120.621</td>\n",
       "</tr>\n",
       "</table>\n",
       "<table class=\"simpletable\">\n",
       "<tr>\n",
       "  <th>Omnibus:</th>       <td>487.703</td> <th>  Durbin-Watson:     </th> <td>   1.495</td>\n",
       "</tr>\n",
       "<tr>\n",
       "  <th>Prob(Omnibus):</th> <td> 0.000</td>  <th>  Jarque-Bera (JB):  </th> <td>2873.687</td>\n",
       "</tr>\n",
       "<tr>\n",
       "  <th>Skew:</th>          <td> 1.561</td>  <th>  Prob(JB):          </th> <td>    0.00</td>\n",
       "</tr>\n",
       "<tr>\n",
       "  <th>Kurtosis:</th>      <td> 9.430</td>  <th>  Cond. No.          </th> <td>5.59e+03</td>\n",
       "</tr>\n",
       "</table><br/><br/>Notes:<br/>[1] Standard Errors assume that the covariance matrix of the errors is correctly specified.<br/>[2] The condition number is large, 5.59e+03. This might indicate that there are<br/>strong multicollinearity or other numerical problems."
      ],
      "text/plain": [
       "<class 'statsmodels.iolib.summary.Summary'>\n",
       "\"\"\"\n",
       "                            OLS Regression Results                            \n",
       "==============================================================================\n",
       "Dep. Variable:                 precio   R-squared:                       0.511\n",
       "Model:                            OLS   Adj. R-squared:                  0.510\n",
       "Method:                 Least Squares   F-statistic:                     1406.\n",
       "Date:                Mon, 17 Jan 2022   Prob (F-statistic):          2.18e-211\n",
       "Time:                        23:13:59   Log-Likelihood:                -16983.\n",
       "No. Observations:                1350   AIC:                         3.397e+04\n",
       "Df Residuals:                    1348   BIC:                         3.398e+04\n",
       "Df Model:                           1                                         \n",
       "Covariance Type:            nonrobust                                         \n",
       "=====================================================================================\n",
       "                        coef    std err          t      P>|t|      [0.025      0.975]\n",
       "-------------------------------------------------------------------------------------\n",
       "Intercept           1.06e+04   5719.119      1.854      0.064    -617.704    2.18e+04\n",
       "metros_habitables   114.6246      3.057     37.499      0.000     108.628     120.621\n",
       "==============================================================================\n",
       "Omnibus:                      487.703   Durbin-Watson:                   1.495\n",
       "Prob(Omnibus):                  0.000   Jarque-Bera (JB):             2873.687\n",
       "Skew:                           1.561   Prob(JB):                         0.00\n",
       "Kurtosis:                       9.430   Cond. No.                     5.59e+03\n",
       "==============================================================================\n",
       "\n",
       "Notes:\n",
       "[1] Standard Errors assume that the covariance matrix of the errors is correctly specified.\n",
       "[2] The condition number is large, 5.59e+03. This might indicate that there are\n",
       "strong multicollinearity or other numerical problems.\n",
       "\"\"\""
      ]
     },
     "execution_count": 95,
     "metadata": {},
     "output_type": "execute_result"
    }
   ],
   "source": [
    "# Añadir al modelo existente las vars predictoras una a una \n",
    "lm = smf.ols(formula=\"precio~metros_habitables\", data = datos_training).fit()\n",
    "lm.summary()"
   ]
  },
  {
   "cell_type": "code",
   "execution_count": 14,
   "id": "67483679",
   "metadata": {},
   "outputs": [
    {
     "data": {
      "text/html": [
       "<table class=\"simpletable\">\n",
       "<caption>OLS Regression Results</caption>\n",
       "<tr>\n",
       "  <th>Dep. Variable:</th>         <td>precio</td>      <th>  R-squared:         </th> <td>   0.604</td> \n",
       "</tr>\n",
       "<tr>\n",
       "  <th>Model:</th>                   <td>OLS</td>       <th>  Adj. R-squared:    </th> <td>   0.604</td> \n",
       "</tr>\n",
       "<tr>\n",
       "  <th>Method:</th>             <td>Least Squares</td>  <th>  F-statistic:       </th> <td>   1020.</td> \n",
       "</tr>\n",
       "<tr>\n",
       "  <th>Date:</th>             <td>Mon, 17 Jan 2022</td> <th>  Prob (F-statistic):</th> <td>1.29e-269</td>\n",
       "</tr>\n",
       "<tr>\n",
       "  <th>Time:</th>                 <td>18:10:37</td>     <th>  Log-Likelihood:    </th> <td> -16659.</td> \n",
       "</tr>\n",
       "<tr>\n",
       "  <th>No. Observations:</th>      <td>  1338</td>      <th>  AIC:               </th> <td>3.332e+04</td>\n",
       "</tr>\n",
       "<tr>\n",
       "  <th>Df Residuals:</th>          <td>  1335</td>      <th>  BIC:               </th> <td>3.334e+04</td>\n",
       "</tr>\n",
       "<tr>\n",
       "  <th>Df Model:</th>              <td>     2</td>      <th>                     </th>     <td> </td>    \n",
       "</tr>\n",
       "<tr>\n",
       "  <th>Covariance Type:</th>      <td>nonrobust</td>    <th>                     </th>     <td> </td>    \n",
       "</tr>\n",
       "</table>\n",
       "<table class=\"simpletable\">\n",
       "<tr>\n",
       "          <td></td>             <th>coef</th>     <th>std err</th>      <th>t</th>      <th>P>|t|</th>  <th>[0.025</th>    <th>0.975]</th>  \n",
       "</tr>\n",
       "<tr>\n",
       "  <th>Intercept</th>         <td> 2.246e+04</td> <td> 5116.045</td> <td>    4.390</td> <td> 0.000</td> <td> 1.24e+04</td> <td> 3.25e+04</td>\n",
       "</tr>\n",
       "<tr>\n",
       "  <th>metros_habitables</th> <td>   87.9639</td> <td>    3.026</td> <td>   29.069</td> <td> 0.000</td> <td>   82.028</td> <td>   93.900</td>\n",
       "</tr>\n",
       "<tr>\n",
       "  <th>precio_terreno</th>    <td>    0.9914</td> <td>    0.053</td> <td>   18.862</td> <td> 0.000</td> <td>    0.888</td> <td>    1.095</td>\n",
       "</tr>\n",
       "</table>\n",
       "<table class=\"simpletable\">\n",
       "<tr>\n",
       "  <th>Omnibus:</th>       <td>484.478</td> <th>  Durbin-Watson:     </th> <td>   1.735</td>\n",
       "</tr>\n",
       "<tr>\n",
       "  <th>Prob(Omnibus):</th> <td> 0.000</td>  <th>  Jarque-Bera (JB):  </th> <td>3542.125</td>\n",
       "</tr>\n",
       "<tr>\n",
       "  <th>Skew:</th>          <td> 1.490</td>  <th>  Prob(JB):          </th> <td>    0.00</td>\n",
       "</tr>\n",
       "<tr>\n",
       "  <th>Kurtosis:</th>      <td>10.393</td>  <th>  Cond. No.          </th> <td>1.51e+05</td>\n",
       "</tr>\n",
       "</table><br/><br/>Notes:<br/>[1] Standard Errors assume that the covariance matrix of the errors is correctly specified.<br/>[2] The condition number is large, 1.51e+05. This might indicate that there are<br/>strong multicollinearity or other numerical problems."
      ],
      "text/plain": [
       "<class 'statsmodels.iolib.summary.Summary'>\n",
       "\"\"\"\n",
       "                            OLS Regression Results                            \n",
       "==============================================================================\n",
       "Dep. Variable:                 precio   R-squared:                       0.604\n",
       "Model:                            OLS   Adj. R-squared:                  0.604\n",
       "Method:                 Least Squares   F-statistic:                     1020.\n",
       "Date:                Mon, 17 Jan 2022   Prob (F-statistic):          1.29e-269\n",
       "Time:                        18:10:37   Log-Likelihood:                -16659.\n",
       "No. Observations:                1338   AIC:                         3.332e+04\n",
       "Df Residuals:                    1335   BIC:                         3.334e+04\n",
       "Df Model:                           2                                         \n",
       "Covariance Type:            nonrobust                                         \n",
       "=====================================================================================\n",
       "                        coef    std err          t      P>|t|      [0.025      0.975]\n",
       "-------------------------------------------------------------------------------------\n",
       "Intercept          2.246e+04   5116.045      4.390      0.000    1.24e+04    3.25e+04\n",
       "metros_habitables    87.9639      3.026     29.069      0.000      82.028      93.900\n",
       "precio_terreno        0.9914      0.053     18.862      0.000       0.888       1.095\n",
       "==============================================================================\n",
       "Omnibus:                      484.478   Durbin-Watson:                   1.735\n",
       "Prob(Omnibus):                  0.000   Jarque-Bera (JB):             3542.125\n",
       "Skew:                           1.490   Prob(JB):                         0.00\n",
       "Kurtosis:                      10.393   Cond. No.                     1.51e+05\n",
       "==============================================================================\n",
       "\n",
       "Notes:\n",
       "[1] Standard Errors assume that the covariance matrix of the errors is correctly specified.\n",
       "[2] The condition number is large, 1.51e+05. This might indicate that there are\n",
       "strong multicollinearity or other numerical problems.\n",
       "\"\"\""
      ]
     },
     "execution_count": 14,
     "metadata": {},
     "output_type": "execute_result"
    }
   ],
   "source": [
    "# +precio_terreno\n",
    "lm = smf.ols(formula=\"precio~metros_habitables+precio_terreno\", data = datos_training).fit()\n",
    "lm.summary()"
   ]
  },
  {
   "cell_type": "code",
   "execution_count": 15,
   "id": "31060a9f",
   "metadata": {},
   "outputs": [
    {
     "data": {
      "text/html": [
       "<table class=\"simpletable\">\n",
       "<caption>OLS Regression Results</caption>\n",
       "<tr>\n",
       "  <th>Dep. Variable:</th>         <td>precio</td>      <th>  R-squared:         </th> <td>   0.611</td> \n",
       "</tr>\n",
       "<tr>\n",
       "  <th>Model:</th>                   <td>OLS</td>       <th>  Adj. R-squared:    </th> <td>   0.610</td> \n",
       "</tr>\n",
       "<tr>\n",
       "  <th>Method:</th>             <td>Least Squares</td>  <th>  F-statistic:       </th> <td>   699.3</td> \n",
       "</tr>\n",
       "<tr>\n",
       "  <th>Date:</th>             <td>Mon, 17 Jan 2022</td> <th>  Prob (F-statistic):</th> <td>4.24e-273</td>\n",
       "</tr>\n",
       "<tr>\n",
       "  <th>Time:</th>                 <td>18:10:43</td>     <th>  Log-Likelihood:    </th> <td> -16648.</td> \n",
       "</tr>\n",
       "<tr>\n",
       "  <th>No. Observations:</th>      <td>  1338</td>      <th>  AIC:               </th> <td>3.330e+04</td>\n",
       "</tr>\n",
       "<tr>\n",
       "  <th>Df Residuals:</th>          <td>  1334</td>      <th>  BIC:               </th> <td>3.332e+04</td>\n",
       "</tr>\n",
       "<tr>\n",
       "  <th>Df Model:</th>              <td>     3</td>      <th>                     </th>     <td> </td>    \n",
       "</tr>\n",
       "<tr>\n",
       "  <th>Covariance Type:</th>      <td>nonrobust</td>    <th>                     </th>     <td> </td>    \n",
       "</tr>\n",
       "</table>\n",
       "<table class=\"simpletable\">\n",
       "<tr>\n",
       "          <td></td>             <th>coef</th>     <th>std err</th>      <th>t</th>      <th>P>|t|</th>  <th>[0.025</th>    <th>0.975]</th>  \n",
       "</tr>\n",
       "<tr>\n",
       "  <th>Intercept</th>         <td> 3.443e+04</td> <td> 5644.184</td> <td>    6.100</td> <td> 0.000</td> <td> 2.34e+04</td> <td> 4.55e+04</td>\n",
       "</tr>\n",
       "<tr>\n",
       "  <th>metros_habitables</th> <td>   85.3487</td> <td>    3.049</td> <td>   27.991</td> <td> 0.000</td> <td>   79.367</td> <td>   91.330</td>\n",
       "</tr>\n",
       "<tr>\n",
       "  <th>precio_terreno</th>    <td>    1.0061</td> <td>    0.052</td> <td>   19.267</td> <td> 0.000</td> <td>    0.904</td> <td>    1.108</td>\n",
       "</tr>\n",
       "<tr>\n",
       "  <th>antiguedad</th>        <td> -278.7921</td> <td>   57.591</td> <td>   -4.841</td> <td> 0.000</td> <td> -391.771</td> <td> -165.813</td>\n",
       "</tr>\n",
       "</table>\n",
       "<table class=\"simpletable\">\n",
       "<tr>\n",
       "  <th>Omnibus:</th>       <td>516.672</td> <th>  Durbin-Watson:     </th> <td>   1.717</td>\n",
       "</tr>\n",
       "<tr>\n",
       "  <th>Prob(Omnibus):</th> <td> 0.000</td>  <th>  Jarque-Bera (JB):  </th> <td>3968.316</td>\n",
       "</tr>\n",
       "<tr>\n",
       "  <th>Skew:</th>          <td> 1.592</td>  <th>  Prob(JB):          </th> <td>    0.00</td>\n",
       "</tr>\n",
       "<tr>\n",
       "  <th>Kurtosis:</th>      <td>10.813</td>  <th>  Cond. No.          </th> <td>1.68e+05</td>\n",
       "</tr>\n",
       "</table><br/><br/>Notes:<br/>[1] Standard Errors assume that the covariance matrix of the errors is correctly specified.<br/>[2] The condition number is large, 1.68e+05. This might indicate that there are<br/>strong multicollinearity or other numerical problems."
      ],
      "text/plain": [
       "<class 'statsmodels.iolib.summary.Summary'>\n",
       "\"\"\"\n",
       "                            OLS Regression Results                            \n",
       "==============================================================================\n",
       "Dep. Variable:                 precio   R-squared:                       0.611\n",
       "Model:                            OLS   Adj. R-squared:                  0.610\n",
       "Method:                 Least Squares   F-statistic:                     699.3\n",
       "Date:                Mon, 17 Jan 2022   Prob (F-statistic):          4.24e-273\n",
       "Time:                        18:10:43   Log-Likelihood:                -16648.\n",
       "No. Observations:                1338   AIC:                         3.330e+04\n",
       "Df Residuals:                    1334   BIC:                         3.332e+04\n",
       "Df Model:                           3                                         \n",
       "Covariance Type:            nonrobust                                         \n",
       "=====================================================================================\n",
       "                        coef    std err          t      P>|t|      [0.025      0.975]\n",
       "-------------------------------------------------------------------------------------\n",
       "Intercept          3.443e+04   5644.184      6.100      0.000    2.34e+04    4.55e+04\n",
       "metros_habitables    85.3487      3.049     27.991      0.000      79.367      91.330\n",
       "precio_terreno        1.0061      0.052     19.267      0.000       0.904       1.108\n",
       "antiguedad         -278.7921     57.591     -4.841      0.000    -391.771    -165.813\n",
       "==============================================================================\n",
       "Omnibus:                      516.672   Durbin-Watson:                   1.717\n",
       "Prob(Omnibus):                  0.000   Jarque-Bera (JB):             3968.316\n",
       "Skew:                           1.592   Prob(JB):                         0.00\n",
       "Kurtosis:                      10.813   Cond. No.                     1.68e+05\n",
       "==============================================================================\n",
       "\n",
       "Notes:\n",
       "[1] Standard Errors assume that the covariance matrix of the errors is correctly specified.\n",
       "[2] The condition number is large, 1.68e+05. This might indicate that there are\n",
       "strong multicollinearity or other numerical problems.\n",
       "\"\"\""
      ]
     },
     "execution_count": 15,
     "metadata": {},
     "output_type": "execute_result"
    }
   ],
   "source": [
    "# +antiguedad\n",
    "lm = smf.ols(formula=\"precio~metros_habitables+precio_terreno+antiguedad\", data = datos_training).fit()\n",
    "lm.summary()"
   ]
  },
  {
   "cell_type": "code",
   "execution_count": 16,
   "id": "691b1451",
   "metadata": {},
   "outputs": [
    {
     "data": {
      "text/html": [
       "<table class=\"simpletable\">\n",
       "<caption>OLS Regression Results</caption>\n",
       "<tr>\n",
       "  <th>Dep. Variable:</th>         <td>precio</td>      <th>  R-squared:         </th> <td>   0.614</td> \n",
       "</tr>\n",
       "<tr>\n",
       "  <th>Model:</th>                   <td>OLS</td>       <th>  Adj. R-squared:    </th> <td>   0.612</td> \n",
       "</tr>\n",
       "<tr>\n",
       "  <th>Method:</th>             <td>Least Squares</td>  <th>  F-statistic:       </th> <td>   529.3</td> \n",
       "</tr>\n",
       "<tr>\n",
       "  <th>Date:</th>             <td>Mon, 17 Jan 2022</td> <th>  Prob (F-statistic):</th> <td>2.19e-273</td>\n",
       "</tr>\n",
       "<tr>\n",
       "  <th>Time:</th>                 <td>18:10:48</td>     <th>  Log-Likelihood:    </th> <td> -16644.</td> \n",
       "</tr>\n",
       "<tr>\n",
       "  <th>No. Observations:</th>      <td>  1338</td>      <th>  AIC:               </th> <td>3.330e+04</td>\n",
       "</tr>\n",
       "<tr>\n",
       "  <th>Df Residuals:</th>          <td>  1333</td>      <th>  BIC:               </th> <td>3.332e+04</td>\n",
       "</tr>\n",
       "<tr>\n",
       "  <th>Df Model:</th>              <td>     4</td>      <th>                     </th>     <td> </td>    \n",
       "</tr>\n",
       "<tr>\n",
       "  <th>Covariance Type:</th>      <td>nonrobust</td>    <th>                     </th>     <td> </td>    \n",
       "</tr>\n",
       "</table>\n",
       "<table class=\"simpletable\">\n",
       "<tr>\n",
       "          <td></td>             <th>coef</th>     <th>std err</th>      <th>t</th>      <th>P>|t|</th>  <th>[0.025</th>    <th>0.975]</th>  \n",
       "</tr>\n",
       "<tr>\n",
       "  <th>Intercept</th>         <td> 3.354e+04</td> <td> 5637.995</td> <td>    5.949</td> <td> 0.000</td> <td> 2.25e+04</td> <td> 4.46e+04</td>\n",
       "</tr>\n",
       "<tr>\n",
       "  <th>metros_habitables</th> <td>   83.9049</td> <td>    3.083</td> <td>   27.213</td> <td> 0.000</td> <td>   77.856</td> <td>   89.954</td>\n",
       "</tr>\n",
       "<tr>\n",
       "  <th>precio_terreno</th>    <td>    1.0066</td> <td>    0.052</td> <td>   19.329</td> <td> 0.000</td> <td>    0.904</td> <td>    1.109</td>\n",
       "</tr>\n",
       "<tr>\n",
       "  <th>antiguedad</th>        <td> -281.8937</td> <td>   57.449</td> <td>   -4.907</td> <td> 0.000</td> <td> -394.595</td> <td> -169.193</td>\n",
       "</tr>\n",
       "<tr>\n",
       "  <th>metros_totales</th>    <td> 6929.1452</td> <td> 2439.084</td> <td>    2.841</td> <td> 0.005</td> <td> 2144.285</td> <td> 1.17e+04</td>\n",
       "</tr>\n",
       "</table>\n",
       "<table class=\"simpletable\">\n",
       "<tr>\n",
       "  <th>Omnibus:</th>       <td>526.319</td> <th>  Durbin-Watson:     </th> <td>   1.714</td>\n",
       "</tr>\n",
       "<tr>\n",
       "  <th>Prob(Omnibus):</th> <td> 0.000</td>  <th>  Jarque-Bera (JB):  </th> <td>4244.840</td>\n",
       "</tr>\n",
       "<tr>\n",
       "  <th>Skew:</th>          <td> 1.612</td>  <th>  Prob(JB):          </th> <td>    0.00</td>\n",
       "</tr>\n",
       "<tr>\n",
       "  <th>Kurtosis:</th>      <td>11.109</td>  <th>  Cond. No.          </th> <td>1.68e+05</td>\n",
       "</tr>\n",
       "</table><br/><br/>Notes:<br/>[1] Standard Errors assume that the covariance matrix of the errors is correctly specified.<br/>[2] The condition number is large, 1.68e+05. This might indicate that there are<br/>strong multicollinearity or other numerical problems."
      ],
      "text/plain": [
       "<class 'statsmodels.iolib.summary.Summary'>\n",
       "\"\"\"\n",
       "                            OLS Regression Results                            \n",
       "==============================================================================\n",
       "Dep. Variable:                 precio   R-squared:                       0.614\n",
       "Model:                            OLS   Adj. R-squared:                  0.612\n",
       "Method:                 Least Squares   F-statistic:                     529.3\n",
       "Date:                Mon, 17 Jan 2022   Prob (F-statistic):          2.19e-273\n",
       "Time:                        18:10:48   Log-Likelihood:                -16644.\n",
       "No. Observations:                1338   AIC:                         3.330e+04\n",
       "Df Residuals:                    1333   BIC:                         3.332e+04\n",
       "Df Model:                           4                                         \n",
       "Covariance Type:            nonrobust                                         \n",
       "=====================================================================================\n",
       "                        coef    std err          t      P>|t|      [0.025      0.975]\n",
       "-------------------------------------------------------------------------------------\n",
       "Intercept          3.354e+04   5637.995      5.949      0.000    2.25e+04    4.46e+04\n",
       "metros_habitables    83.9049      3.083     27.213      0.000      77.856      89.954\n",
       "precio_terreno        1.0066      0.052     19.329      0.000       0.904       1.109\n",
       "antiguedad         -281.8937     57.449     -4.907      0.000    -394.595    -169.193\n",
       "metros_totales     6929.1452   2439.084      2.841      0.005    2144.285    1.17e+04\n",
       "==============================================================================\n",
       "Omnibus:                      526.319   Durbin-Watson:                   1.714\n",
       "Prob(Omnibus):                  0.000   Jarque-Bera (JB):             4244.840\n",
       "Skew:                           1.612   Prob(JB):                         0.00\n",
       "Kurtosis:                      11.109   Cond. No.                     1.68e+05\n",
       "==============================================================================\n",
       "\n",
       "Notes:\n",
       "[1] Standard Errors assume that the covariance matrix of the errors is correctly specified.\n",
       "[2] The condition number is large, 1.68e+05. This might indicate that there are\n",
       "strong multicollinearity or other numerical problems.\n",
       "\"\"\""
      ]
     },
     "execution_count": 16,
     "metadata": {},
     "output_type": "execute_result"
    }
   ],
   "source": [
    "# +metros_totales\n",
    "lm = smf.ols(formula=\"precio~precio_terreno+antiguedad+metros_totales\", data = datos_training).fit()\n",
    "lm.summary()"
   ]
  },
  {
   "cell_type": "code",
   "execution_count": 17,
   "id": "670be2c6",
   "metadata": {},
   "outputs": [
    {
     "data": {
      "text/html": [
       "<table class=\"simpletable\">\n",
       "<caption>OLS Regression Results</caption>\n",
       "<tr>\n",
       "  <th>Dep. Variable:</th>         <td>precio</td>      <th>  R-squared:         </th> <td>   0.615</td> \n",
       "</tr>\n",
       "<tr>\n",
       "  <th>Model:</th>                   <td>OLS</td>       <th>  Adj. R-squared:    </th> <td>   0.614</td> \n",
       "</tr>\n",
       "<tr>\n",
       "  <th>Method:</th>             <td>Least Squares</td>  <th>  F-statistic:       </th> <td>   426.4</td> \n",
       "</tr>\n",
       "<tr>\n",
       "  <th>Date:</th>             <td>Mon, 17 Jan 2022</td> <th>  Prob (F-statistic):</th> <td>2.38e-273</td>\n",
       "</tr>\n",
       "<tr>\n",
       "  <th>Time:</th>                 <td>18:10:53</td>     <th>  Log-Likelihood:    </th> <td> -16640.</td> \n",
       "</tr>\n",
       "<tr>\n",
       "  <th>No. Observations:</th>      <td>  1338</td>      <th>  AIC:               </th> <td>3.329e+04</td>\n",
       "</tr>\n",
       "<tr>\n",
       "  <th>Df Residuals:</th>          <td>  1332</td>      <th>  BIC:               </th> <td>3.332e+04</td>\n",
       "</tr>\n",
       "<tr>\n",
       "  <th>Df Model:</th>              <td>     5</td>      <th>                     </th>     <td> </td>    \n",
       "</tr>\n",
       "<tr>\n",
       "  <th>Covariance Type:</th>      <td>nonrobust</td>    <th>                     </th>     <td> </td>    \n",
       "</tr>\n",
       "</table>\n",
       "<table class=\"simpletable\">\n",
       "<tr>\n",
       "          <td></td>             <th>coef</th>     <th>std err</th>      <th>t</th>      <th>P>|t|</th>  <th>[0.025</th>    <th>0.975]</th>  \n",
       "</tr>\n",
       "<tr>\n",
       "  <th>Intercept</th>         <td>  2.81e+04</td> <td> 6033.364</td> <td>    4.657</td> <td> 0.000</td> <td> 1.63e+04</td> <td> 3.99e+04</td>\n",
       "</tr>\n",
       "<tr>\n",
       "  <th>metros_habitables</th> <td>   76.4583</td> <td>    4.282</td> <td>   17.854</td> <td> 0.000</td> <td>   68.057</td> <td>   84.859</td>\n",
       "</tr>\n",
       "<tr>\n",
       "  <th>precio_terreno</th>    <td>    1.0081</td> <td>    0.052</td> <td>   19.394</td> <td> 0.000</td> <td>    0.906</td> <td>    1.110</td>\n",
       "</tr>\n",
       "<tr>\n",
       "  <th>antiguedad</th>        <td> -290.2707</td> <td>   57.434</td> <td>   -5.054</td> <td> 0.000</td> <td> -402.942</td> <td> -177.599</td>\n",
       "</tr>\n",
       "<tr>\n",
       "  <th>metros_totales</th>    <td> 6707.2918</td> <td> 2435.910</td> <td>    2.754</td> <td> 0.006</td> <td> 1928.655</td> <td> 1.15e+04</td>\n",
       "</tr>\n",
       "<tr>\n",
       "  <th>habitaciones</th>      <td> 2670.5646</td> <td> 1068.076</td> <td>    2.500</td> <td> 0.013</td> <td>  575.269</td> <td> 4765.860</td>\n",
       "</tr>\n",
       "</table>\n",
       "<table class=\"simpletable\">\n",
       "<tr>\n",
       "  <th>Omnibus:</th>       <td>526.797</td> <th>  Durbin-Watson:     </th> <td>   1.714</td>\n",
       "</tr>\n",
       "<tr>\n",
       "  <th>Prob(Omnibus):</th> <td> 0.000</td>  <th>  Jarque-Bera (JB):  </th> <td>4221.728</td>\n",
       "</tr>\n",
       "<tr>\n",
       "  <th>Skew:</th>          <td> 1.616</td>  <th>  Prob(JB):          </th> <td>    0.00</td>\n",
       "</tr>\n",
       "<tr>\n",
       "  <th>Kurtosis:</th>      <td>11.080</td>  <th>  Cond. No.          </th> <td>1.81e+05</td>\n",
       "</tr>\n",
       "</table><br/><br/>Notes:<br/>[1] Standard Errors assume that the covariance matrix of the errors is correctly specified.<br/>[2] The condition number is large, 1.81e+05. This might indicate that there are<br/>strong multicollinearity or other numerical problems."
      ],
      "text/plain": [
       "<class 'statsmodels.iolib.summary.Summary'>\n",
       "\"\"\"\n",
       "                            OLS Regression Results                            \n",
       "==============================================================================\n",
       "Dep. Variable:                 precio   R-squared:                       0.615\n",
       "Model:                            OLS   Adj. R-squared:                  0.614\n",
       "Method:                 Least Squares   F-statistic:                     426.4\n",
       "Date:                Mon, 17 Jan 2022   Prob (F-statistic):          2.38e-273\n",
       "Time:                        18:10:53   Log-Likelihood:                -16640.\n",
       "No. Observations:                1338   AIC:                         3.329e+04\n",
       "Df Residuals:                    1332   BIC:                         3.332e+04\n",
       "Df Model:                           5                                         \n",
       "Covariance Type:            nonrobust                                         \n",
       "=====================================================================================\n",
       "                        coef    std err          t      P>|t|      [0.025      0.975]\n",
       "-------------------------------------------------------------------------------------\n",
       "Intercept           2.81e+04   6033.364      4.657      0.000    1.63e+04    3.99e+04\n",
       "metros_habitables    76.4583      4.282     17.854      0.000      68.057      84.859\n",
       "precio_terreno        1.0081      0.052     19.394      0.000       0.906       1.110\n",
       "antiguedad         -290.2707     57.434     -5.054      0.000    -402.942    -177.599\n",
       "metros_totales     6707.2918   2435.910      2.754      0.006    1928.655    1.15e+04\n",
       "habitaciones       2670.5646   1068.076      2.500      0.013     575.269    4765.860\n",
       "==============================================================================\n",
       "Omnibus:                      526.797   Durbin-Watson:                   1.714\n",
       "Prob(Omnibus):                  0.000   Jarque-Bera (JB):             4221.728\n",
       "Skew:                           1.616   Prob(JB):                         0.00\n",
       "Kurtosis:                      11.080   Cond. No.                     1.81e+05\n",
       "==============================================================================\n",
       "\n",
       "Notes:\n",
       "[1] Standard Errors assume that the covariance matrix of the errors is correctly specified.\n",
       "[2] The condition number is large, 1.81e+05. This might indicate that there are\n",
       "strong multicollinearity or other numerical problems.\n",
       "\"\"\""
      ]
     },
     "execution_count": 17,
     "metadata": {},
     "output_type": "execute_result"
    }
   ],
   "source": [
    "# +habitaciones \n",
    "lm = smf.ols(formula=\"precio~metros_habitables+precio_terreno+antiguedad+metros_totales+habitaciones\", \n",
    "             data = datos_training).fit()\n",
    "lm.summary()"
   ]
  },
  {
   "cell_type": "code",
   "execution_count": 97,
   "id": "ceec73a2",
   "metadata": {},
   "outputs": [
    {
     "data": {
      "text/html": [
       "<table class=\"simpletable\">\n",
       "<caption>OLS Regression Results</caption>\n",
       "<tr>\n",
       "  <th>Dep. Variable:</th>         <td>precio</td>      <th>  R-squared:         </th> <td>   0.614</td> \n",
       "</tr>\n",
       "<tr>\n",
       "  <th>Model:</th>                   <td>OLS</td>       <th>  Adj. R-squared:    </th> <td>   0.612</td> \n",
       "</tr>\n",
       "<tr>\n",
       "  <th>Method:</th>             <td>Least Squares</td>  <th>  F-statistic:       </th> <td>   355.3</td> \n",
       "</tr>\n",
       "<tr>\n",
       "  <th>Date:</th>             <td>Mon, 17 Jan 2022</td> <th>  Prob (F-statistic):</th> <td>5.02e-273</td>\n",
       "</tr>\n",
       "<tr>\n",
       "  <th>Time:</th>                 <td>23:19:45</td>     <th>  Log-Likelihood:    </th> <td> -16823.</td> \n",
       "</tr>\n",
       "<tr>\n",
       "  <th>No. Observations:</th>      <td>  1350</td>      <th>  AIC:               </th> <td>3.366e+04</td>\n",
       "</tr>\n",
       "<tr>\n",
       "  <th>Df Residuals:</th>          <td>  1343</td>      <th>  BIC:               </th> <td>3.370e+04</td>\n",
       "</tr>\n",
       "<tr>\n",
       "  <th>Df Model:</th>              <td>     6</td>      <th>                     </th>     <td> </td>    \n",
       "</tr>\n",
       "<tr>\n",
       "  <th>Covariance Type:</th>      <td>nonrobust</td>    <th>                     </th>     <td> </td>    \n",
       "</tr>\n",
       "</table>\n",
       "<table class=\"simpletable\">\n",
       "<tr>\n",
       "          <td></td>             <th>coef</th>     <th>std err</th>      <th>t</th>      <th>P>|t|</th>  <th>[0.025</th>    <th>0.975]</th>  \n",
       "</tr>\n",
       "<tr>\n",
       "  <th>Intercept</th>         <td> 2.322e+04</td> <td> 1.05e+04</td> <td>    2.203</td> <td> 0.028</td> <td> 2543.528</td> <td> 4.39e+04</td>\n",
       "</tr>\n",
       "<tr>\n",
       "  <th>metros_habitables</th> <td>   83.0021</td> <td>    4.342</td> <td>   19.117</td> <td> 0.000</td> <td>   74.485</td> <td>   91.520</td>\n",
       "</tr>\n",
       "<tr>\n",
       "  <th>precio_terreno</th>    <td>    0.9604</td> <td>    0.054</td> <td>   17.830</td> <td> 0.000</td> <td>    0.855</td> <td>    1.066</td>\n",
       "</tr>\n",
       "<tr>\n",
       "  <th>antiguedad</th>        <td> -304.5945</td> <td>   58.314</td> <td>   -5.223</td> <td> 0.000</td> <td> -418.991</td> <td> -190.198</td>\n",
       "</tr>\n",
       "<tr>\n",
       "  <th>metros_totales</th>    <td> 7858.2113</td> <td> 2388.238</td> <td>    3.290</td> <td> 0.001</td> <td> 3173.128</td> <td> 1.25e+04</td>\n",
       "</tr>\n",
       "<tr>\n",
       "  <th>habitaciones</th>      <td> 1487.4612</td> <td> 1091.112</td> <td>    1.363</td> <td> 0.173</td> <td> -653.008</td> <td> 3627.931</td>\n",
       "</tr>\n",
       "<tr>\n",
       "  <th>universitarios</th>    <td>   65.9291</td> <td>  171.977</td> <td>    0.383</td> <td> 0.702</td> <td> -271.443</td> <td>  403.302</td>\n",
       "</tr>\n",
       "</table>\n",
       "<table class=\"simpletable\">\n",
       "<tr>\n",
       "  <th>Omnibus:</th>       <td>450.123</td> <th>  Durbin-Watson:     </th> <td>   1.664</td>\n",
       "</tr>\n",
       "<tr>\n",
       "  <th>Prob(Omnibus):</th> <td> 0.000</td>  <th>  Jarque-Bera (JB):  </th> <td>2554.134</td>\n",
       "</tr>\n",
       "<tr>\n",
       "  <th>Skew:</th>          <td> 1.435</td>  <th>  Prob(JB):          </th> <td>    0.00</td>\n",
       "</tr>\n",
       "<tr>\n",
       "  <th>Kurtosis:</th>      <td> 9.096</td>  <th>  Cond. No.          </th> <td>3.09e+05</td>\n",
       "</tr>\n",
       "</table><br/><br/>Notes:<br/>[1] Standard Errors assume that the covariance matrix of the errors is correctly specified.<br/>[2] The condition number is large, 3.09e+05. This might indicate that there are<br/>strong multicollinearity or other numerical problems."
      ],
      "text/plain": [
       "<class 'statsmodels.iolib.summary.Summary'>\n",
       "\"\"\"\n",
       "                            OLS Regression Results                            \n",
       "==============================================================================\n",
       "Dep. Variable:                 precio   R-squared:                       0.614\n",
       "Model:                            OLS   Adj. R-squared:                  0.612\n",
       "Method:                 Least Squares   F-statistic:                     355.3\n",
       "Date:                Mon, 17 Jan 2022   Prob (F-statistic):          5.02e-273\n",
       "Time:                        23:19:45   Log-Likelihood:                -16823.\n",
       "No. Observations:                1350   AIC:                         3.366e+04\n",
       "Df Residuals:                    1343   BIC:                         3.370e+04\n",
       "Df Model:                           6                                         \n",
       "Covariance Type:            nonrobust                                         \n",
       "=====================================================================================\n",
       "                        coef    std err          t      P>|t|      [0.025      0.975]\n",
       "-------------------------------------------------------------------------------------\n",
       "Intercept          2.322e+04   1.05e+04      2.203      0.028    2543.528    4.39e+04\n",
       "metros_habitables    83.0021      4.342     19.117      0.000      74.485      91.520\n",
       "precio_terreno        0.9604      0.054     17.830      0.000       0.855       1.066\n",
       "antiguedad         -304.5945     58.314     -5.223      0.000    -418.991    -190.198\n",
       "metros_totales     7858.2113   2388.238      3.290      0.001    3173.128    1.25e+04\n",
       "habitaciones       1487.4612   1091.112      1.363      0.173    -653.008    3627.931\n",
       "universitarios       65.9291    171.977      0.383      0.702    -271.443     403.302\n",
       "==============================================================================\n",
       "Omnibus:                      450.123   Durbin-Watson:                   1.664\n",
       "Prob(Omnibus):                  0.000   Jarque-Bera (JB):             2554.134\n",
       "Skew:                           1.435   Prob(JB):                         0.00\n",
       "Kurtosis:                       9.096   Cond. No.                     3.09e+05\n",
       "==============================================================================\n",
       "\n",
       "Notes:\n",
       "[1] Standard Errors assume that the covariance matrix of the errors is correctly specified.\n",
       "[2] The condition number is large, 3.09e+05. This might indicate that there are\n",
       "strong multicollinearity or other numerical problems.\n",
       "\"\"\""
      ]
     },
     "execution_count": 97,
     "metadata": {},
     "output_type": "execute_result"
    }
   ],
   "source": [
    "# +universitarios \n",
    "lm = smf.ols(formula=\"precio~metros_habitables+precio_terreno+antiguedad+metros_totales+habitaciones+universitarios\", \n",
    "             data = datos_training).fit()\n",
    "lm.summary()"
   ]
  },
  {
   "cell_type": "markdown",
   "id": "a3d05cd4",
   "metadata": {},
   "source": [
    "**NOTA:** Nos quedamos con las variables metros_habitables, precio_terreno, antiguedad, r2 = 0.611"
   ]
  },
  {
   "cell_type": "markdown",
   "id": "ef5b459e",
   "metadata": {},
   "source": [
    "#### Cálculo del error en el modelo con datos training"
   ]
  },
  {
   "cell_type": "code",
   "execution_count": 28,
   "id": "75f859de",
   "metadata": {},
   "outputs": [],
   "source": [
    "precio_pred = lm.predict(datos_training)"
   ]
  },
  {
   "cell_type": "code",
   "execution_count": 31,
   "id": "cfe92b4e",
   "metadata": {},
   "outputs": [
    {
     "data": {
      "text/plain": [
       "5024923870590.765"
      ]
     },
     "execution_count": 31,
     "metadata": {},
     "output_type": "execute_result"
    }
   ],
   "source": [
    "SSD = sum((datos_training['precio']-precio_pred)**2)\n",
    "SSD"
   ]
  },
  {
   "cell_type": "code",
   "execution_count": 32,
   "id": "980a4b62",
   "metadata": {},
   "outputs": [
    {
     "data": {
      "text/plain": [
       "61351.3481355179"
      ]
     },
     "execution_count": 32,
     "metadata": {},
     "output_type": "execute_result"
    }
   ],
   "source": [
    "RSE = np.sqrt(SSD/(len(datos_training)-2-1))\n",
    "RSE"
   ]
  },
  {
   "cell_type": "code",
   "execution_count": 33,
   "id": "c110879d",
   "metadata": {},
   "outputs": [
    {
     "data": {
      "text/plain": [
       "28.97440700421129"
      ]
     },
     "execution_count": 33,
     "metadata": {},
     "output_type": "execute_result"
    }
   ],
   "source": [
    "precio_mean = np.mean(datos_training['precio'])\n",
    "error = RSE/precio_mean\n",
    "error*100"
   ]
  },
  {
   "cell_type": "markdown",
   "id": "ddf77794",
   "metadata": {},
   "source": [
    "#### Validación del modelo con datos de testing"
   ]
  },
  {
   "cell_type": "code",
   "execution_count": 24,
   "id": "d8a2f9cf",
   "metadata": {},
   "outputs": [
    {
     "data": {
      "text/plain": [
       "0     150350.087128\n",
       "2     170613.612279\n",
       "7     184556.574244\n",
       "11    195193.336881\n",
       "12     95721.144153\n",
       "dtype: float64"
      ]
     },
     "execution_count": 24,
     "metadata": {},
     "output_type": "execute_result"
    }
   ],
   "source": [
    "precio_pred = lm.predict(datos_testing)\n",
    "precio_pred.head()"
   ]
  },
  {
   "cell_type": "code",
   "execution_count": 25,
   "id": "62f2b4b6",
   "metadata": {},
   "outputs": [
    {
     "data": {
      "text/plain": [
       "1510108728953.1833"
      ]
     },
     "execution_count": 25,
     "metadata": {},
     "output_type": "execute_result"
    }
   ],
   "source": [
    "# veamos como difiere esta prediccion del original\n",
    "SSD = sum((datos_testing['precio']-precio_pred)**2)\n",
    "SSD"
   ]
  },
  {
   "cell_type": "code",
   "execution_count": 22,
   "id": "5b2be3bb",
   "metadata": {},
   "outputs": [
    {
     "data": {
      "text/plain": [
       "62466.70904487537"
      ]
     },
     "execution_count": 22,
     "metadata": {},
     "output_type": "execute_result"
    }
   ],
   "source": [
    "RSE = np.sqrt(SSD/(len(datos_testing)-2-1))\n",
    "RSE"
   ]
  },
  {
   "cell_type": "code",
   "execution_count": 27,
   "id": "458db35b",
   "metadata": {},
   "outputs": [
    {
     "data": {
      "text/plain": [
       "29.363851461850903"
      ]
     },
     "execution_count": 27,
     "metadata": {},
     "output_type": "execute_result"
    }
   ],
   "source": [
    "precio_mean = np.mean(datos_testing['precio'])\n",
    "error = RSE/precio_mean\n",
    "error*100"
   ]
  },
  {
   "cell_type": "code",
   "execution_count": null,
   "id": "32d95c95",
   "metadata": {},
   "outputs": [],
   "source": []
  }
 ],
 "metadata": {
  "kernelspec": {
   "display_name": "Python 3",
   "language": "python",
   "name": "python3"
  },
  "language_info": {
   "codemirror_mode": {
    "name": "ipython",
    "version": 3
   },
   "file_extension": ".py",
   "mimetype": "text/x-python",
   "name": "python",
   "nbconvert_exporter": "python",
   "pygments_lexer": "ipython3",
   "version": "3.8.8"
  }
 },
 "nbformat": 4,
 "nbformat_minor": 5
}
